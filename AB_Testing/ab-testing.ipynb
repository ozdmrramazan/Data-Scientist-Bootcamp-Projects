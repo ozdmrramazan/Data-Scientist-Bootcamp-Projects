{
 "cells": [
  {
   "cell_type": "markdown",
   "id": "50d922d8",
   "metadata": {
    "papermill": {
     "duration": 0.007003,
     "end_time": "2023-03-28T07:50:11.609061",
     "exception": false,
     "start_time": "2023-03-28T07:50:11.602058",
     "status": "completed"
    },
    "tags": []
   },
   "source": [
    "# **Introduction**\n",
    "The company has developed a new webpage to increase the number of paying users for their product. They are conducting an AB test to see the results of this new page. Two equally-sized groups are created as control and treatment groups, labeled A and B. The treatment group (B) is presented with the new webpage while the control group (A) is presented with the old one, and the experiment is run. Data is collected for both groups, and then hypothesis testing is applied to determine if the difference is significant or not.\n",
    "\n",
    "## **AB Test Steps:**\n",
    "1. **Create the hypothesis:** \n",
    "New page increased the number of paying users\n",
    "2. **Assumption Check**\n",
    " - Normality Assumption\n",
    " - Variance Homogeneity\n",
    "3. **Hypothesis Testing**\n",
    " - If the assumptions are met, a parametric test with t test\n",
    " - Else a non-parametric test with  mannwhitneyu test\n",
    "4. **The results are interpreted based on the p-value**\n",
    "\n",
    " \n",
    "## **About the Dataset** \n",
    "**user_id:** unique users number\n",
    "\n",
    "**timestamp:** time\n",
    "\n",
    "**group:** treatment and control group\n",
    "\n",
    "**landing_page:** old_page and new_page\n",
    "\n",
    "**converted:** Sign up status after viewing the page (0-1)\n",
    "\n",
    "\n",
    "## **AB Testing**\n",
    "\n",
    "### **Create Hypothesis**\n",
    "\n",
    "H0: There is not statistically significant difference between the old page and new page\n",
    "\n",
    "H1: There is statistically significant difference between the old page and new page\n",
    "\n",
    "### **Assumption Check**\n",
    "\n",
    "**Normality Assumption**\n",
    "\n",
    "- H0: The assumption of normal distribution is provided\n",
    "- H1: The assumption of normal distribution is not provided\n",
    "\n",
    "\n",
    "If the p-value is less than 0.05, it is considered significant and a non-parametric test (mannwhitneyu test) will be used. Else a parametric test (t-test) \n",
    "\n",
    "**Variance Homogeneity**\n",
    "\n",
    "- H0: Variances are homogeneous\n",
    "- H1: Variances are not homogeneous\n",
    "\n",
    "### **Conclusion**\n",
    "The hypothesis will be concluded based on the p-value obtained from the parametric/non-parametric test we will perform. This result will answer the question: Is there a significant difference between the new and old page?\n",
    "\n",
    "### **Hypothesis Testing**\n",
    "\n",
    "H0: There is not statistically significant difference between the old page and new page\n",
    "\n",
    "H1: There is statistically significant difference between the old page and new page"
   ]
  },
  {
   "cell_type": "code",
   "execution_count": 1,
   "id": "9cefad77",
   "metadata": {
    "execution": {
     "iopub.execute_input": "2023-03-28T07:50:11.624101Z",
     "iopub.status.busy": "2023-03-28T07:50:11.622681Z",
     "iopub.status.idle": "2023-03-28T07:50:13.045846Z",
     "shell.execute_reply": "2023-03-28T07:50:13.044778Z"
    },
    "papermill": {
     "duration": 1.433665,
     "end_time": "2023-03-28T07:50:13.048888",
     "exception": false,
     "start_time": "2023-03-28T07:50:11.615223",
     "status": "completed"
    },
    "tags": []
   },
   "outputs": [],
   "source": [
    "import pandas as pd\n",
    "import statsmodels.stats.api as sms\n",
    "from scipy.stats import shapiro, levene, mannwhitneyu\n",
    "\n",
    "import warnings\n",
    "warnings.filterwarnings('ignore')"
   ]
  },
  {
   "cell_type": "code",
   "execution_count": 2,
   "id": "07511dc5",
   "metadata": {
    "execution": {
     "iopub.execute_input": "2023-03-28T07:50:13.062809Z",
     "iopub.status.busy": "2023-03-28T07:50:13.061920Z",
     "iopub.status.idle": "2023-03-28T07:50:13.458705Z",
     "shell.execute_reply": "2023-03-28T07:50:13.457208Z"
    },
    "papermill": {
     "duration": 0.406973,
     "end_time": "2023-03-28T07:50:13.461697",
     "exception": false,
     "start_time": "2023-03-28T07:50:13.054724",
     "status": "completed"
    },
    "tags": []
   },
   "outputs": [],
   "source": [
    "df = pd.read_csv('/kaggle/input/ecommerce-ab-testing-2022-dataset1/ecommerce_ab_testing_2022_dataset1/ab_data.csv')"
   ]
  },
  {
   "cell_type": "markdown",
   "id": "a8cd66bb",
   "metadata": {
    "papermill": {
     "duration": 0.005907,
     "end_time": "2023-03-28T07:50:13.473266",
     "exception": false,
     "start_time": "2023-03-28T07:50:13.467359",
     "status": "completed"
    },
    "tags": []
   },
   "source": [
    "# **EDA(Exploratory Data Analysis)**"
   ]
  },
  {
   "cell_type": "code",
   "execution_count": 3,
   "id": "30d76a51",
   "metadata": {
    "execution": {
     "iopub.execute_input": "2023-03-28T07:50:13.487851Z",
     "iopub.status.busy": "2023-03-28T07:50:13.486604Z",
     "iopub.status.idle": "2023-03-28T07:50:13.517340Z",
     "shell.execute_reply": "2023-03-28T07:50:13.515928Z"
    },
    "papermill": {
     "duration": 0.041281,
     "end_time": "2023-03-28T07:50:13.520475",
     "exception": false,
     "start_time": "2023-03-28T07:50:13.479194",
     "status": "completed"
    },
    "tags": []
   },
   "outputs": [
    {
     "data": {
      "text/html": [
       "<div>\n",
       "<style scoped>\n",
       "    .dataframe tbody tr th:only-of-type {\n",
       "        vertical-align: middle;\n",
       "    }\n",
       "\n",
       "    .dataframe tbody tr th {\n",
       "        vertical-align: top;\n",
       "    }\n",
       "\n",
       "    .dataframe thead th {\n",
       "        text-align: right;\n",
       "    }\n",
       "</style>\n",
       "<table border=\"1\" class=\"dataframe\">\n",
       "  <thead>\n",
       "    <tr style=\"text-align: right;\">\n",
       "      <th></th>\n",
       "      <th>user_id</th>\n",
       "      <th>timestamp</th>\n",
       "      <th>group</th>\n",
       "      <th>landing_page</th>\n",
       "      <th>converted</th>\n",
       "    </tr>\n",
       "  </thead>\n",
       "  <tbody>\n",
       "    <tr>\n",
       "      <th>0</th>\n",
       "      <td>851104</td>\n",
       "      <td>11:48.6</td>\n",
       "      <td>control</td>\n",
       "      <td>old_page</td>\n",
       "      <td>0</td>\n",
       "    </tr>\n",
       "    <tr>\n",
       "      <th>1</th>\n",
       "      <td>804228</td>\n",
       "      <td>01:45.2</td>\n",
       "      <td>control</td>\n",
       "      <td>old_page</td>\n",
       "      <td>0</td>\n",
       "    </tr>\n",
       "    <tr>\n",
       "      <th>2</th>\n",
       "      <td>661590</td>\n",
       "      <td>55:06.2</td>\n",
       "      <td>treatment</td>\n",
       "      <td>new_page</td>\n",
       "      <td>0</td>\n",
       "    </tr>\n",
       "    <tr>\n",
       "      <th>3</th>\n",
       "      <td>853541</td>\n",
       "      <td>28:03.1</td>\n",
       "      <td>treatment</td>\n",
       "      <td>new_page</td>\n",
       "      <td>0</td>\n",
       "    </tr>\n",
       "    <tr>\n",
       "      <th>4</th>\n",
       "      <td>864975</td>\n",
       "      <td>52:26.2</td>\n",
       "      <td>control</td>\n",
       "      <td>old_page</td>\n",
       "      <td>1</td>\n",
       "    </tr>\n",
       "  </tbody>\n",
       "</table>\n",
       "</div>"
      ],
      "text/plain": [
       "   user_id timestamp      group landing_page  converted\n",
       "0   851104   11:48.6    control     old_page          0\n",
       "1   804228   01:45.2    control     old_page          0\n",
       "2   661590   55:06.2  treatment     new_page          0\n",
       "3   853541   28:03.1  treatment     new_page          0\n",
       "4   864975   52:26.2    control     old_page          1"
      ]
     },
     "execution_count": 3,
     "metadata": {},
     "output_type": "execute_result"
    }
   ],
   "source": [
    "df.head()"
   ]
  },
  {
   "cell_type": "code",
   "execution_count": 4,
   "id": "a451309b",
   "metadata": {
    "execution": {
     "iopub.execute_input": "2023-03-28T07:50:13.535155Z",
     "iopub.status.busy": "2023-03-28T07:50:13.533986Z",
     "iopub.status.idle": "2023-03-28T07:50:13.611320Z",
     "shell.execute_reply": "2023-03-28T07:50:13.609951Z"
    },
    "papermill": {
     "duration": 0.087415,
     "end_time": "2023-03-28T07:50:13.614036",
     "exception": false,
     "start_time": "2023-03-28T07:50:13.526621",
     "status": "completed"
    },
    "tags": []
   },
   "outputs": [
    {
     "name": "stdout",
     "output_type": "stream",
     "text": [
      "<class 'pandas.core.frame.DataFrame'>\n",
      "RangeIndex: 294480 entries, 0 to 294479\n",
      "Data columns (total 5 columns):\n",
      " #   Column        Non-Null Count   Dtype \n",
      "---  ------        --------------   ----- \n",
      " 0   user_id       294480 non-null  int64 \n",
      " 1   timestamp     294480 non-null  object\n",
      " 2   group         294480 non-null  object\n",
      " 3   landing_page  294480 non-null  object\n",
      " 4   converted     294480 non-null  int64 \n",
      "dtypes: int64(2), object(3)\n",
      "memory usage: 11.2+ MB\n"
     ]
    }
   ],
   "source": [
    "df.info()"
   ]
  },
  {
   "cell_type": "code",
   "execution_count": 5,
   "id": "e7a69114",
   "metadata": {
    "execution": {
     "iopub.execute_input": "2023-03-28T07:50:13.628315Z",
     "iopub.status.busy": "2023-03-28T07:50:13.627844Z",
     "iopub.status.idle": "2023-03-28T07:50:13.743697Z",
     "shell.execute_reply": "2023-03-28T07:50:13.742364Z"
    },
    "papermill": {
     "duration": 0.126448,
     "end_time": "2023-03-28T07:50:13.746590",
     "exception": false,
     "start_time": "2023-03-28T07:50:13.620142",
     "status": "completed"
    },
    "tags": []
   },
   "outputs": [
    {
     "data": {
      "text/plain": [
       "user_id         290585\n",
       "timestamp        35993\n",
       "group                2\n",
       "landing_page         2\n",
       "converted            2\n",
       "dtype: int64"
      ]
     },
     "execution_count": 5,
     "metadata": {},
     "output_type": "execute_result"
    }
   ],
   "source": [
    "df.apply(lambda x: x.nunique())"
   ]
  },
  {
   "cell_type": "code",
   "execution_count": 6,
   "id": "f95b92fa",
   "metadata": {
    "execution": {
     "iopub.execute_input": "2023-03-28T07:50:13.760999Z",
     "iopub.status.busy": "2023-03-28T07:50:13.760562Z",
     "iopub.status.idle": "2023-03-28T07:50:13.822840Z",
     "shell.execute_reply": "2023-03-28T07:50:13.821567Z"
    },
    "papermill": {
     "duration": 0.072711,
     "end_time": "2023-03-28T07:50:13.825634",
     "exception": false,
     "start_time": "2023-03-28T07:50:13.752923",
     "status": "completed"
    },
    "tags": []
   },
   "outputs": [
    {
     "data": {
      "text/plain": [
       "user_id         0\n",
       "timestamp       0\n",
       "group           0\n",
       "landing_page    0\n",
       "converted       0\n",
       "dtype: int64"
      ]
     },
     "execution_count": 6,
     "metadata": {},
     "output_type": "execute_result"
    }
   ],
   "source": [
    "df.isnull().sum()"
   ]
  },
  {
   "cell_type": "code",
   "execution_count": 7,
   "id": "6ad35313",
   "metadata": {
    "execution": {
     "iopub.execute_input": "2023-03-28T07:50:13.840948Z",
     "iopub.status.busy": "2023-03-28T07:50:13.839885Z",
     "iopub.status.idle": "2023-03-28T07:50:13.912137Z",
     "shell.execute_reply": "2023-03-28T07:50:13.910574Z"
    },
    "papermill": {
     "duration": 0.082662,
     "end_time": "2023-03-28T07:50:13.914902",
     "exception": false,
     "start_time": "2023-03-28T07:50:13.832240",
     "status": "completed"
    },
    "tags": []
   },
   "outputs": [
    {
     "name": "stdout",
     "output_type": "stream",
     "text": [
      "(294480, 5)\n",
      "(286690, 5)\n"
     ]
    }
   ],
   "source": [
    "print(df.shape)\n",
    "df = df.drop_duplicates(subset= 'user_id', keep= False)\n",
    "print(df.shape)"
   ]
  },
  {
   "cell_type": "code",
   "execution_count": 8,
   "id": "d3700f63",
   "metadata": {
    "execution": {
     "iopub.execute_input": "2023-03-28T07:50:13.929988Z",
     "iopub.status.busy": "2023-03-28T07:50:13.928986Z",
     "iopub.status.idle": "2023-03-28T07:50:14.041582Z",
     "shell.execute_reply": "2023-03-28T07:50:14.040365Z"
    },
    "papermill": {
     "duration": 0.122716,
     "end_time": "2023-03-28T07:50:14.044054",
     "exception": false,
     "start_time": "2023-03-28T07:50:13.921338",
     "status": "completed"
    },
    "tags": []
   },
   "outputs": [
    {
     "data": {
      "text/html": [
       "<div>\n",
       "<style scoped>\n",
       "    .dataframe tbody tr th:only-of-type {\n",
       "        vertical-align: middle;\n",
       "    }\n",
       "\n",
       "    .dataframe tbody tr th {\n",
       "        vertical-align: top;\n",
       "    }\n",
       "\n",
       "    .dataframe thead th {\n",
       "        text-align: right;\n",
       "    }\n",
       "</style>\n",
       "<table border=\"1\" class=\"dataframe\">\n",
       "  <thead>\n",
       "    <tr style=\"text-align: right;\">\n",
       "      <th></th>\n",
       "      <th></th>\n",
       "      <th>landing_page</th>\n",
       "    </tr>\n",
       "    <tr>\n",
       "      <th>group</th>\n",
       "      <th>landing_page</th>\n",
       "      <th></th>\n",
       "    </tr>\n",
       "  </thead>\n",
       "  <tbody>\n",
       "    <tr>\n",
       "      <th>control</th>\n",
       "      <th>old_page</th>\n",
       "      <td>143293</td>\n",
       "    </tr>\n",
       "    <tr>\n",
       "      <th>treatment</th>\n",
       "      <th>new_page</th>\n",
       "      <td>143397</td>\n",
       "    </tr>\n",
       "  </tbody>\n",
       "</table>\n",
       "</div>"
      ],
      "text/plain": [
       "                        landing_page\n",
       "group     landing_page              \n",
       "control   old_page            143293\n",
       "treatment new_page            143397"
      ]
     },
     "execution_count": 8,
     "metadata": {},
     "output_type": "execute_result"
    }
   ],
   "source": [
    "df.groupby(['group','landing_page']).agg({'landing_page': lambda x: x.value_counts()})"
   ]
  },
  {
   "cell_type": "code",
   "execution_count": 9,
   "id": "60fb0ba4",
   "metadata": {
    "execution": {
     "iopub.execute_input": "2023-03-28T07:50:14.058748Z",
     "iopub.status.busy": "2023-03-28T07:50:14.058343Z",
     "iopub.status.idle": "2023-03-28T07:50:14.132338Z",
     "shell.execute_reply": "2023-03-28T07:50:14.130950Z"
    },
    "papermill": {
     "duration": 0.084446,
     "end_time": "2023-03-28T07:50:14.134935",
     "exception": false,
     "start_time": "2023-03-28T07:50:14.050489",
     "status": "completed"
    },
    "tags": []
   },
   "outputs": [
    {
     "data": {
      "text/html": [
       "<div>\n",
       "<style scoped>\n",
       "    .dataframe tbody tr th:only-of-type {\n",
       "        vertical-align: middle;\n",
       "    }\n",
       "\n",
       "    .dataframe tbody tr th {\n",
       "        vertical-align: top;\n",
       "    }\n",
       "\n",
       "    .dataframe thead th {\n",
       "        text-align: right;\n",
       "    }\n",
       "</style>\n",
       "<table border=\"1\" class=\"dataframe\">\n",
       "  <thead>\n",
       "    <tr style=\"text-align: right;\">\n",
       "      <th></th>\n",
       "      <th></th>\n",
       "      <th>converted</th>\n",
       "    </tr>\n",
       "    <tr>\n",
       "      <th>group</th>\n",
       "      <th>landing_page</th>\n",
       "      <th></th>\n",
       "    </tr>\n",
       "  </thead>\n",
       "  <tbody>\n",
       "    <tr>\n",
       "      <th>control</th>\n",
       "      <th>old_page</th>\n",
       "      <td>0.120173</td>\n",
       "    </tr>\n",
       "    <tr>\n",
       "      <th>treatment</th>\n",
       "      <th>new_page</th>\n",
       "      <td>0.118726</td>\n",
       "    </tr>\n",
       "  </tbody>\n",
       "</table>\n",
       "</div>"
      ],
      "text/plain": [
       "                        converted\n",
       "group     landing_page           \n",
       "control   old_page       0.120173\n",
       "treatment new_page       0.118726"
      ]
     },
     "execution_count": 9,
     "metadata": {},
     "output_type": "execute_result"
    }
   ],
   "source": [
    "df.groupby(['group','landing_page']).agg({'converted': 'mean'})"
   ]
  },
  {
   "cell_type": "code",
   "execution_count": 10,
   "id": "4de36f07",
   "metadata": {
    "execution": {
     "iopub.execute_input": "2023-03-28T07:50:14.152217Z",
     "iopub.status.busy": "2023-03-28T07:50:14.151283Z",
     "iopub.status.idle": "2023-03-28T07:50:14.180388Z",
     "shell.execute_reply": "2023-03-28T07:50:14.179427Z"
    },
    "papermill": {
     "duration": 0.041069,
     "end_time": "2023-03-28T07:50:14.182744",
     "exception": false,
     "start_time": "2023-03-28T07:50:14.141675",
     "status": "completed"
    },
    "tags": []
   },
   "outputs": [
    {
     "data": {
      "text/html": [
       "<div>\n",
       "<style scoped>\n",
       "    .dataframe tbody tr th:only-of-type {\n",
       "        vertical-align: middle;\n",
       "    }\n",
       "\n",
       "    .dataframe tbody tr th {\n",
       "        vertical-align: top;\n",
       "    }\n",
       "\n",
       "    .dataframe thead th {\n",
       "        text-align: right;\n",
       "    }\n",
       "</style>\n",
       "<table border=\"1\" class=\"dataframe\">\n",
       "  <thead>\n",
       "    <tr style=\"text-align: right;\">\n",
       "      <th></th>\n",
       "      <th>landing_page</th>\n",
       "    </tr>\n",
       "  </thead>\n",
       "  <tbody>\n",
       "    <tr>\n",
       "      <th>new_page</th>\n",
       "      <td>50.018138</td>\n",
       "    </tr>\n",
       "    <tr>\n",
       "      <th>old_page</th>\n",
       "      <td>49.981862</td>\n",
       "    </tr>\n",
       "  </tbody>\n",
       "</table>\n",
       "</div>"
      ],
      "text/plain": [
       "          landing_page\n",
       "new_page     50.018138\n",
       "old_page     49.981862"
      ]
     },
     "execution_count": 10,
     "metadata": {},
     "output_type": "execute_result"
    }
   ],
   "source": [
    "pd.DataFrame(df.loc[:,'landing_page'].value_counts(normalize = True) * 100)"
   ]
  },
  {
   "cell_type": "code",
   "execution_count": 11,
   "id": "8b3b2370",
   "metadata": {
    "execution": {
     "iopub.execute_input": "2023-03-28T07:50:14.199449Z",
     "iopub.status.busy": "2023-03-28T07:50:14.198634Z",
     "iopub.status.idle": "2023-03-28T07:50:14.302684Z",
     "shell.execute_reply": "2023-03-28T07:50:14.301225Z"
    },
    "papermill": {
     "duration": 0.115728,
     "end_time": "2023-03-28T07:50:14.305768",
     "exception": false,
     "start_time": "2023-03-28T07:50:14.190040",
     "status": "completed"
    },
    "tags": []
   },
   "outputs": [
    {
     "data": {
      "text/html": [
       "<div>\n",
       "<style scoped>\n",
       "    .dataframe tbody tr th:only-of-type {\n",
       "        vertical-align: middle;\n",
       "    }\n",
       "\n",
       "    .dataframe tbody tr th {\n",
       "        vertical-align: top;\n",
       "    }\n",
       "\n",
       "    .dataframe thead th {\n",
       "        text-align: right;\n",
       "    }\n",
       "</style>\n",
       "<table border=\"1\" class=\"dataframe\">\n",
       "  <thead>\n",
       "    <tr style=\"text-align: right;\">\n",
       "      <th></th>\n",
       "      <th>user_id</th>\n",
       "      <th>timestamp</th>\n",
       "      <th>group</th>\n",
       "      <th>landing_page</th>\n",
       "      <th>converted</th>\n",
       "    </tr>\n",
       "  </thead>\n",
       "  <tbody>\n",
       "  </tbody>\n",
       "</table>\n",
       "</div>"
      ],
      "text/plain": [
       "Empty DataFrame\n",
       "Columns: [user_id, timestamp, group, landing_page, converted]\n",
       "Index: []"
      ]
     },
     "execution_count": 11,
     "metadata": {},
     "output_type": "execute_result"
    }
   ],
   "source": [
    "df[((df['group'] == 'control') & (df['landing_page'] == 'new_page')) |((df['group'] == 'treatment') & (df['landing_page'] == 'old_page')) ]"
   ]
  },
  {
   "cell_type": "markdown",
   "id": "5827fb61",
   "metadata": {
    "papermill": {
     "duration": 0.00753,
     "end_time": "2023-03-28T07:50:14.320972",
     "exception": false,
     "start_time": "2023-03-28T07:50:14.313442",
     "status": "completed"
    },
    "tags": []
   },
   "source": [
    "Control group = new page\n",
    "\n",
    "Treatment group = old page"
   ]
  },
  {
   "cell_type": "markdown",
   "id": "7073c832",
   "metadata": {
    "papermill": {
     "duration": 0.006864,
     "end_time": "2023-03-28T07:50:14.335026",
     "exception": false,
     "start_time": "2023-03-28T07:50:14.328162",
     "status": "completed"
    },
    "tags": []
   },
   "source": [
    "# **AB Test**"
   ]
  },
  {
   "cell_type": "markdown",
   "id": "b54b7a3d",
   "metadata": {
    "papermill": {
     "duration": 0.00678,
     "end_time": "2023-03-28T07:50:14.348891",
     "exception": false,
     "start_time": "2023-03-28T07:50:14.342111",
     "status": "completed"
    },
    "tags": []
   },
   "source": [
    "### Normality Assumption\n",
    "\n",
    "- H0: The assumption of normal distribution is provided\n",
    "- H1: The assumption of normal distribution is not provided\n",
    "\n",
    "If the p-value is less than 0.05, it is considered significant and a non-parametric test (mannwhitneyu test) will be used. Else a parametric test (t-test)"
   ]
  },
  {
   "cell_type": "code",
   "execution_count": 12,
   "id": "1c03120a",
   "metadata": {
    "execution": {
     "iopub.execute_input": "2023-03-28T07:50:14.365283Z",
     "iopub.status.busy": "2023-03-28T07:50:14.364823Z",
     "iopub.status.idle": "2023-03-28T07:50:14.401344Z",
     "shell.execute_reply": "2023-03-28T07:50:14.400239Z"
    },
    "papermill": {
     "duration": 0.048952,
     "end_time": "2023-03-28T07:50:14.404938",
     "exception": false,
     "start_time": "2023-03-28T07:50:14.355986",
     "status": "completed"
    },
    "tags": []
   },
   "outputs": [
    {
     "name": "stdout",
     "output_type": "stream",
     "text": [
      "p-value: 0.0\n",
      "test_stat: 0.3792334198951721\n"
     ]
    }
   ],
   "source": [
    "test_stat, pvalue = shapiro(df.loc[df[\"landing_page\"] == \"old_page\", \"converted\"])\n",
    "print(\"p-value:\",pvalue)\n",
    "print(\"test_stat:\",test_stat)"
   ]
  },
  {
   "cell_type": "code",
   "execution_count": 13,
   "id": "841ce1b1",
   "metadata": {
    "execution": {
     "iopub.execute_input": "2023-03-28T07:50:14.423033Z",
     "iopub.status.busy": "2023-03-28T07:50:14.422447Z",
     "iopub.status.idle": "2023-03-28T07:50:14.460815Z",
     "shell.execute_reply": "2023-03-28T07:50:14.459110Z"
    },
    "papermill": {
     "duration": 0.050891,
     "end_time": "2023-03-28T07:50:14.463648",
     "exception": false,
     "start_time": "2023-03-28T07:50:14.412757",
     "status": "completed"
    },
    "tags": []
   },
   "outputs": [
    {
     "name": "stdout",
     "output_type": "stream",
     "text": [
      "p-value: 0.0\n",
      "test_stat: 0.37685757875442505\n"
     ]
    }
   ],
   "source": [
    "test_stat, pvalue = shapiro(df.loc[df[\"landing_page\"] == \"new_page\", \"converted\"])\n",
    "print(\"p-value:\",pvalue)\n",
    "print(\"test_stat:\",test_stat)"
   ]
  },
  {
   "cell_type": "markdown",
   "id": "0fccdd75",
   "metadata": {
    "papermill": {
     "duration": 0.007072,
     "end_time": "2023-03-28T07:50:14.478055",
     "exception": false,
     "start_time": "2023-03-28T07:50:14.470983",
     "status": "completed"
    },
    "tags": []
   },
   "source": [
    "p-value < 0.05, so assumption of normality is not provided. we will use non-parametric test(mannwhitneyu test)"
   ]
  },
  {
   "cell_type": "markdown",
   "id": "1cf5374e",
   "metadata": {
    "papermill": {
     "duration": 0.007099,
     "end_time": "2023-03-28T07:50:14.492476",
     "exception": false,
     "start_time": "2023-03-28T07:50:14.485377",
     "status": "completed"
    },
    "tags": []
   },
   "source": [
    "### Variance Homogeneity\n",
    "\n",
    "H0: Variances are homogeneous\n",
    "\n",
    "H1: Variances are not homogeneous"
   ]
  },
  {
   "cell_type": "code",
   "execution_count": 14,
   "id": "891f6aa7",
   "metadata": {
    "execution": {
     "iopub.execute_input": "2023-03-28T07:50:14.509764Z",
     "iopub.status.busy": "2023-03-28T07:50:14.508740Z",
     "iopub.status.idle": "2023-03-28T07:50:14.574975Z",
     "shell.execute_reply": "2023-03-28T07:50:14.573016Z"
    },
    "papermill": {
     "duration": 0.079021,
     "end_time": "2023-03-28T07:50:14.578841",
     "exception": false,
     "start_time": "2023-03-28T07:50:14.499820",
     "status": "completed"
    },
    "tags": []
   },
   "outputs": [
    {
     "name": "stdout",
     "output_type": "stream",
     "text": [
      "p-value: 0.2322897281547632\n",
      "test_stat: 1.4267917566652295\n"
     ]
    }
   ],
   "source": [
    "test_stat, pvalue = levene(df.loc[df[\"landing_page\"] == \"new_page\", \"converted\"],\n",
    "                           df.loc[df[\"landing_page\"] == \"old_page\", \"converted\"])\n",
    "print(\"p-value:\",pvalue)  \n",
    "print(\"test_stat:\",test_stat)"
   ]
  },
  {
   "cell_type": "markdown",
   "id": "dfb847a2",
   "metadata": {
    "papermill": {
     "duration": 0.007226,
     "end_time": "2023-03-28T07:50:14.593632",
     "exception": false,
     "start_time": "2023-03-28T07:50:14.586406",
     "status": "completed"
    },
    "tags": []
   },
   "source": [
    "Variances are homogeneous"
   ]
  },
  {
   "cell_type": "markdown",
   "id": "f2a7274e",
   "metadata": {
    "papermill": {
     "duration": 0.009669,
     "end_time": "2023-03-28T07:50:14.612490",
     "exception": false,
     "start_time": "2023-03-28T07:50:14.602821",
     "status": "completed"
    },
    "tags": []
   },
   "source": [
    "### Hypothesis Testing\n",
    "\n",
    "a non-parametric test with mannwhitneyu test\n",
    "\n",
    "H0: There is not statistically significant difference between the old page and new page\n",
    "\n",
    "H1: There is  statistically significant difference between the old page and new page"
   ]
  },
  {
   "cell_type": "code",
   "execution_count": 15,
   "id": "59c54301",
   "metadata": {
    "execution": {
     "iopub.execute_input": "2023-03-28T07:50:14.630639Z",
     "iopub.status.busy": "2023-03-28T07:50:14.629615Z",
     "iopub.status.idle": "2023-03-28T07:50:14.845909Z",
     "shell.execute_reply": "2023-03-28T07:50:14.844480Z"
    },
    "papermill": {
     "duration": 0.228234,
     "end_time": "2023-03-28T07:50:14.848754",
     "exception": false,
     "start_time": "2023-03-28T07:50:14.620520",
     "status": "completed"
    },
    "tags": []
   },
   "outputs": [
    {
     "name": "stdout",
     "output_type": "stream",
     "text": [
      "Test Stat = 10259026653.0000, p-value = 0.2323\n"
     ]
    }
   ],
   "source": [
    "test_stat, pvalue = mannwhitneyu(df.loc[df[\"landing_page\"] == \"new_page\", \"converted\"],\n",
    "                                 df.loc[df[\"landing_page\"] == \"old_page\", \"converted\"])\n",
    "\n",
    "print('Test Stat = %.4f, p-value = %.4f' % (test_stat, pvalue))"
   ]
  },
  {
   "cell_type": "markdown",
   "id": "fbcbd815",
   "metadata": {
    "papermill": {
     "duration": 0.007015,
     "end_time": "2023-03-28T07:50:14.863261",
     "exception": false,
     "start_time": "2023-03-28T07:50:14.856246",
     "status": "completed"
    },
    "tags": []
   },
   "source": [
    "p-value(0.2323) >0.05\n",
    "\n",
    "We fail to reject zero. there is no statistically significant difference between the new page and the old page, so it does not bring a profit"
   ]
  }
 ],
 "metadata": {
  "kernelspec": {
   "display_name": "Python 3",
   "language": "python",
   "name": "python3"
  },
  "language_info": {
   "codemirror_mode": {
    "name": "ipython",
    "version": 3
   },
   "file_extension": ".py",
   "mimetype": "text/x-python",
   "name": "python",
   "nbconvert_exporter": "python",
   "pygments_lexer": "ipython3",
   "version": "3.7.12"
  },
  "papermill": {
   "default_parameters": {},
   "duration": 16.38945,
   "end_time": "2023-03-28T07:50:15.695173",
   "environment_variables": {},
   "exception": null,
   "input_path": "__notebook__.ipynb",
   "output_path": "__notebook__.ipynb",
   "parameters": {},
   "start_time": "2023-03-28T07:49:59.305723",
   "version": "2.4.0"
  }
 },
 "nbformat": 4,
 "nbformat_minor": 5
}
