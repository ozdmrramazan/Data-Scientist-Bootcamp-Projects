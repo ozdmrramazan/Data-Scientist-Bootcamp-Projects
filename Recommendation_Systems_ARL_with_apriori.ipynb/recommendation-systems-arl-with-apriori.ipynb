{
 "cells": [
  {
   "attachments": {
    "4d34f0e4-0df3-49ff-be58-08b2ee3bc3b9.png": {
     "image/png": "[encoded data removed]"
    }
   },
   "cell_type": "markdown",
   "id": "65a40e6d",
   "metadata": {
    "papermill": {
     "duration": 0.009417,
     "end_time": "2023-04-01T11:20:24.347858",
     "exception": false,
     "start_time": "2023-04-01T11:20:24.338441",
     "status": "completed"
    },
    "tags": []
   },
   "source": [
    " ![indir.png](attachment:4d34f0e4-0df3-49ff-be58-08b2ee3bc3b9.png)\n",
    "# About Dataset\n",
    "The dataset was obtained from a UK-based online store.\n",
    "Includes sales between 01/12/2009 - 09/12/2011.\n",
    "\n",
    "**Dataset Columns**\n",
    "- InvoiceNo: Invoice number. The unique number of each transaction, namely the invoice. Aborted operation if it starts with C.\n",
    "\n",
    "- StockCode: Product code. Unique number for each product\n",
    "\n",
    "- Description: Product name\n",
    "\n",
    "- Quantity: Number of products. It expresses how many of the products on the invoices have been sold.\n",
    "\n",
    "- InvoiceDate: Invoice date and time.\n",
    "\n",
    "- UnitPrice: Product price (in GBP)\n",
    "\n",
    "- CustomerID: Unique customer number\n",
    "\n",
    "- Country: Country name. Country where the customer lives.\n",
    "\n",
    "## Steps\n",
    "### 1. Data Preprocessing\n",
    "Data preprocessing is a critical step in data analysis and machine learning, as it involves transforming raw data into a format that is suitable for analysis or model training. This process can include cleaning the data by removing duplicates, correcting errors, and handling missing values, as well as transforming the data by scaling or normalizing it, feature engineering, and selecting relevant variables. The goal of data preprocessing is to improve the quality of the data and reduce the noise, so that it can be analyzed effectively and used to develop accurate models that provide meaningful insights. Overall, data preprocessing is a crucial step in any data science project, as it can greatly impact the accuracy and effectiveness of the resulting models.\n",
    "\n",
    "### 2. Create Association Rule Learning(ARL) data structure,\n",
    "This is Association Rule Learning, a learning method used as a data mining technique that aims to determine the relationships between items in a dataset.\n",
    "\n",
    "Association Rule Learning is used to discover frequency-based relationships between items in a dataset. For example, in a customer shopping dataset in a market, there could be a rule like \"customers who buy milk also buy bread.\" This rule can be used to analyze customer behavior and develop more effective marketing strategies.\n",
    "\n",
    "Association Rule Learning typically consists of two steps: 1) Creating frequency tables and 2) Determining association rules. Frequency tables show the frequency of items appearing together in the dataset, while the association rule determines the relationship between items.\n",
    "\n",
    "Association Rule Learning is especially used for analyzing large datasets, such as in the retail sector. This technique is an important tool for developing marketing strategies, product placement, and inventory management.\n",
    "\n",
    "### 3. Extracting Association Rules\n",
    "Extracting Association Rules is a data mining technique used to determine relationships between items in a dataset. This technique is also known as Association Rule Learning.\n",
    "\n",
    "Extracting Association Rules is commonly used for analyzing large datasets, such as in the retail sector. This technique is an important tool for analyzing customer behavior, developing marketing strategies, product placement, and inventory management.\n",
    "\n",
    "Extracting Association Rules is used to determine relationships between items in a dataset. For example, in a customer shopping dataset in a market, there could be a rule like \"customers who buy milk also buy bread.\" This rule can be used to analyze customer behavior and develop more effective marketing strategies.\n",
    "\n",
    "Extracting Association Rules typically consists of two steps: 1) Creating frequency tables and 2) Determining association rules. Frequency tables show the frequency of items appearing together in the dataset, while association rules determine the relationship between items.\n",
    "\n",
    "### 4. Making Product Suggestions to Users at the Basket Stage\n",
    "Suggesting a product according to the product in the customer's basket"
   ]
  },
  {
   "cell_type": "code",
   "execution_count": 1,
   "id": "b0b0aacd",
   "metadata": {
    "execution": {
     "iopub.execute_input": "2023-04-01T11:20:24.372134Z",
     "iopub.status.busy": "2023-04-01T11:20:24.371572Z",
     "iopub.status.idle": "2023-04-01T11:20:24.398649Z",
     "shell.execute_reply": "2023-04-01T11:20:24.397340Z"
    },
    "papermill": {
     "duration": 0.044514,
     "end_time": "2023-04-01T11:20:24.401296",
     "exception": false,
     "start_time": "2023-04-01T11:20:24.356782",
     "status": "completed"
    },
    "tags": []
   },
   "outputs": [],
   "source": [
    "import numpy as np\n",
    "import pandas as pd\n",
    "from mlxtend.frequent_patterns import apriori, association_rules"
   ]
  },
  {
   "cell_type": "code",
   "execution_count": 2,
   "id": "33ed2bb7",
   "metadata": {
    "execution": {
     "iopub.execute_input": "2023-04-01T11:20:24.425131Z",
     "iopub.status.busy": "2023-04-01T11:20:24.424802Z",
     "iopub.status.idle": "2023-04-01T11:21:28.883527Z",
     "shell.execute_reply": "2023-04-01T11:21:28.881907Z"
    },
    "papermill": {
     "duration": 64.474059,
     "end_time": "2023-04-01T11:21:28.886273",
     "exception": false,
     "start_time": "2023-04-01T11:20:24.412214",
     "status": "completed"
    },
    "tags": []
   },
   "outputs": [],
   "source": [
    "df_ = pd.read_excel('/kaggle/input/online-retail-gift-products/online_retail_II.xlsx'\n",
    "                ,sheet_name=\"Year 2010-2011\")"
   ]
  },
  {
   "cell_type": "code",
   "execution_count": 3,
   "id": "db71d28a",
   "metadata": {
    "execution": {
     "iopub.execute_input": "2023-04-01T11:21:28.906204Z",
     "iopub.status.busy": "2023-04-01T11:21:28.905663Z",
     "iopub.status.idle": "2023-04-01T11:21:28.929047Z",
     "shell.execute_reply": "2023-04-01T11:21:28.927471Z"
    },
    "papermill": {
     "duration": 0.036323,
     "end_time": "2023-04-01T11:21:28.931687",
     "exception": false,
     "start_time": "2023-04-01T11:21:28.895364",
     "status": "completed"
    },
    "tags": []
   },
   "outputs": [],
   "source": [
    "df = df_.copy()"
   ]
  },
  {
   "cell_type": "markdown",
   "id": "3d0613e3",
   "metadata": {
    "papermill": {
     "duration": 0.008835,
     "end_time": "2023-04-01T11:21:28.949565",
     "exception": false,
     "start_time": "2023-04-01T11:21:28.940730",
     "status": "completed"
    },
    "tags": []
   },
   "source": [
    "# EDA(Exploratory Data Analysis)"
   ]
  },
  {
   "cell_type": "code",
   "execution_count": 4,
   "id": "f9672c68",
   "metadata": {
    "execution": {
     "iopub.execute_input": "2023-04-01T11:21:28.969447Z",
     "iopub.status.busy": "2023-04-01T11:21:28.969102Z",
     "iopub.status.idle": "2023-04-01T11:21:29.348696Z",
     "shell.execute_reply": "2023-04-01T11:21:29.347582Z"
    },
    "papermill": {
     "duration": 0.391977,
     "end_time": "2023-04-01T11:21:29.350910",
     "exception": false,
     "start_time": "2023-04-01T11:21:28.958933",
     "status": "completed"
    },
    "tags": []
   },
   "outputs": [
    {
     "name": "stdout",
     "output_type": "stream",
     "text": [
      "\n",
      "    \n",
      "    -- Info --\n",
      "    \n",
      "    Invoice                object\n",
      "StockCode              object\n",
      "Description            object\n",
      "Quantity                int64\n",
      "InvoiceDate    datetime64[ns]\n",
      "Price                 float64\n",
      "Customer ID           float64\n",
      "Country                object\n",
      "dtype: object\n",
      "    \n",
      "    -- NaN Values --\n",
      "    \n",
      "    Invoice             0\n",
      "StockCode           0\n",
      "Description      1454\n",
      "Quantity            0\n",
      "InvoiceDate         0\n",
      "Price               0\n",
      "Customer ID    135080\n",
      "Country             0\n",
      "dtype: int64\n",
      "    \n",
      "    -- Shape --\n",
      "    \n",
      "    (541910, 8)\n",
      "    \n",
      "    -- Unique --\n",
      "    \n",
      "    Invoice        25900\n",
      "StockCode       4070\n",
      "Description     4223\n",
      "Quantity         722\n",
      "InvoiceDate    23260\n",
      "Price           1630\n",
      "Customer ID     4372\n",
      "Country           38\n",
      "dtype: int64\n",
      "    \n",
      "    -- Head --\n",
      "    \n"
     ]
    },
    {
     "data": {
      "text/html": [
       "<div>\n",
       "<style scoped>\n",
       "    .dataframe tbody tr th:only-of-type {\n",
       "        vertical-align: middle;\n",
       "    }\n",
       "\n",
       "    .dataframe tbody tr th {\n",
       "        vertical-align: top;\n",
       "    }\n",
       "\n",
       "    .dataframe thead th {\n",
       "        text-align: right;\n",
       "    }\n",
       "</style>\n",
       "<table border=\"1\" class=\"dataframe\">\n",
       "  <thead>\n",
       "    <tr style=\"text-align: right;\">\n",
       "      <th></th>\n",
       "      <th>Invoice</th>\n",
       "      <th>StockCode</th>\n",
       "      <th>Description</th>\n",
       "      <th>Quantity</th>\n",
       "      <th>InvoiceDate</th>\n",
       "      <th>Price</th>\n",
       "      <th>Customer ID</th>\n",
       "      <th>Country</th>\n",
       "    </tr>\n",
       "  </thead>\n",
       "  <tbody>\n",
       "    <tr>\n",
       "      <th>0</th>\n",
       "      <td>536365</td>\n",
       "      <td>85123A</td>\n",
       "      <td>WHITE HANGING HEART T-LIGHT HOLDER</td>\n",
       "      <td>6</td>\n",
       "      <td>2010-12-01 08:26:00</td>\n",
       "      <td>2.55</td>\n",
       "      <td>17850.0</td>\n",
       "      <td>United Kingdom</td>\n",
       "    </tr>\n",
       "    <tr>\n",
       "      <th>1</th>\n",
       "      <td>536365</td>\n",
       "      <td>71053</td>\n",
       "      <td>WHITE METAL LANTERN</td>\n",
       "      <td>6</td>\n",
       "      <td>2010-12-01 08:26:00</td>\n",
       "      <td>3.39</td>\n",
       "      <td>17850.0</td>\n",
       "      <td>United Kingdom</td>\n",
       "    </tr>\n",
       "    <tr>\n",
       "      <th>2</th>\n",
       "      <td>536365</td>\n",
       "      <td>84406B</td>\n",
       "      <td>CREAM CUPID HEARTS COAT HANGER</td>\n",
       "      <td>8</td>\n",
       "      <td>2010-12-01 08:26:00</td>\n",
       "      <td>2.75</td>\n",
       "      <td>17850.0</td>\n",
       "      <td>United Kingdom</td>\n",
       "    </tr>\n",
       "    <tr>\n",
       "      <th>3</th>\n",
       "      <td>536365</td>\n",
       "      <td>84029G</td>\n",
       "      <td>KNITTED UNION FLAG HOT WATER BOTTLE</td>\n",
       "      <td>6</td>\n",
       "      <td>2010-12-01 08:26:00</td>\n",
       "      <td>3.39</td>\n",
       "      <td>17850.0</td>\n",
       "      <td>United Kingdom</td>\n",
       "    </tr>\n",
       "    <tr>\n",
       "      <th>4</th>\n",
       "      <td>536365</td>\n",
       "      <td>84029E</td>\n",
       "      <td>RED WOOLLY HOTTIE WHITE HEART.</td>\n",
       "      <td>6</td>\n",
       "      <td>2010-12-01 08:26:00</td>\n",
       "      <td>3.39</td>\n",
       "      <td>17850.0</td>\n",
       "      <td>United Kingdom</td>\n",
       "    </tr>\n",
       "  </tbody>\n",
       "</table>\n",
       "</div>"
      ],
      "text/plain": [
       "  Invoice StockCode                          Description  Quantity  \\\n",
       "0  536365    85123A   WHITE HANGING HEART T-LIGHT HOLDER         6   \n",
       "1  536365     71053                  WHITE METAL LANTERN         6   \n",
       "2  536365    84406B       CREAM CUPID HEARTS COAT HANGER         8   \n",
       "3  536365    84029G  KNITTED UNION FLAG HOT WATER BOTTLE         6   \n",
       "4  536365    84029E       RED WOOLLY HOTTIE WHITE HEART.         6   \n",
       "\n",
       "          InvoiceDate  Price  Customer ID         Country  \n",
       "0 2010-12-01 08:26:00   2.55      17850.0  United Kingdom  \n",
       "1 2010-12-01 08:26:00   3.39      17850.0  United Kingdom  \n",
       "2 2010-12-01 08:26:00   2.75      17850.0  United Kingdom  \n",
       "3 2010-12-01 08:26:00   3.39      17850.0  United Kingdom  \n",
       "4 2010-12-01 08:26:00   3.39      17850.0  United Kingdom  "
      ]
     },
     "execution_count": 4,
     "metadata": {},
     "output_type": "execute_result"
    }
   ],
   "source": [
    "def eda(dataframe):\n",
    "    print(f\"\"\"\n",
    "    \n",
    "    -- Info --\n",
    "    \n",
    "    {dataframe.dtypes}\n",
    "    \n",
    "    -- NaN Values --\n",
    "    \n",
    "    {dataframe.isnull().sum()}\n",
    "    \n",
    "    -- Shape --\n",
    "    \n",
    "    {dataframe.shape}\n",
    "    \n",
    "    -- Unique --\n",
    "    \n",
    "    {df.apply(lambda x: x.nunique())}\n",
    "    \n",
    "    -- Head --\n",
    "    \"\"\")\n",
    "    \n",
    "    \n",
    "    return dataframe.head()\n",
    "eda(df)"
   ]
  },
  {
   "cell_type": "code",
   "execution_count": 5,
   "id": "5fee7e79",
   "metadata": {
    "execution": {
     "iopub.execute_input": "2023-04-01T11:21:29.375168Z",
     "iopub.status.busy": "2023-04-01T11:21:29.373979Z",
     "iopub.status.idle": "2023-04-01T11:21:29.450063Z",
     "shell.execute_reply": "2023-04-01T11:21:29.448331Z"
    },
    "papermill": {
     "duration": 0.090685,
     "end_time": "2023-04-01T11:21:29.452941",
     "exception": false,
     "start_time": "2023-04-01T11:21:29.362256",
     "status": "completed"
    },
    "tags": []
   },
   "outputs": [
    {
     "data": {
      "text/html": [
       "<div>\n",
       "<style scoped>\n",
       "    .dataframe tbody tr th:only-of-type {\n",
       "        vertical-align: middle;\n",
       "    }\n",
       "\n",
       "    .dataframe tbody tr th {\n",
       "        vertical-align: top;\n",
       "    }\n",
       "\n",
       "    .dataframe thead th {\n",
       "        text-align: right;\n",
       "    }\n",
       "</style>\n",
       "<table border=\"1\" class=\"dataframe\">\n",
       "  <thead>\n",
       "    <tr style=\"text-align: right;\">\n",
       "      <th></th>\n",
       "      <th>count</th>\n",
       "      <th>mean</th>\n",
       "      <th>std</th>\n",
       "      <th>min</th>\n",
       "      <th>25%</th>\n",
       "      <th>50%</th>\n",
       "      <th>75%</th>\n",
       "      <th>max</th>\n",
       "    </tr>\n",
       "  </thead>\n",
       "  <tbody>\n",
       "    <tr>\n",
       "      <th>Quantity</th>\n",
       "      <td>541910.0</td>\n",
       "      <td>9.552234</td>\n",
       "      <td>218.080957</td>\n",
       "      <td>-80995.00</td>\n",
       "      <td>1.00</td>\n",
       "      <td>3.00</td>\n",
       "      <td>10.00</td>\n",
       "      <td>80995.0</td>\n",
       "    </tr>\n",
       "    <tr>\n",
       "      <th>Price</th>\n",
       "      <td>541910.0</td>\n",
       "      <td>4.611138</td>\n",
       "      <td>96.759765</td>\n",
       "      <td>-11062.06</td>\n",
       "      <td>1.25</td>\n",
       "      <td>2.08</td>\n",
       "      <td>4.13</td>\n",
       "      <td>38970.0</td>\n",
       "    </tr>\n",
       "    <tr>\n",
       "      <th>Customer ID</th>\n",
       "      <td>406830.0</td>\n",
       "      <td>15287.684160</td>\n",
       "      <td>1713.603074</td>\n",
       "      <td>12346.00</td>\n",
       "      <td>13953.00</td>\n",
       "      <td>15152.00</td>\n",
       "      <td>16791.00</td>\n",
       "      <td>18287.0</td>\n",
       "    </tr>\n",
       "  </tbody>\n",
       "</table>\n",
       "</div>"
      ],
      "text/plain": [
       "                count          mean          std       min       25%  \\\n",
       "Quantity     541910.0      9.552234   218.080957 -80995.00      1.00   \n",
       "Price        541910.0      4.611138    96.759765 -11062.06      1.25   \n",
       "Customer ID  406830.0  15287.684160  1713.603074  12346.00  13953.00   \n",
       "\n",
       "                  50%       75%      max  \n",
       "Quantity         3.00     10.00  80995.0  \n",
       "Price            2.08      4.13  38970.0  \n",
       "Customer ID  15152.00  16791.00  18287.0  "
      ]
     },
     "execution_count": 5,
     "metadata": {},
     "output_type": "execute_result"
    }
   ],
   "source": [
    "df.describe().T"
   ]
  },
  {
   "cell_type": "markdown",
   "id": "a61a2729",
   "metadata": {
    "papermill": {
     "duration": 0.009169,
     "end_time": "2023-04-01T11:21:29.471712",
     "exception": false,
     "start_time": "2023-04-01T11:21:29.462543",
     "status": "completed"
    },
    "tags": []
   },
   "source": [
    "There is a problem above. Price and quantity cannot be negative. These are most likely the result of the return process. We need to remove these \n",
    "\n",
    "Those with invoice value of c are also refundable.\n",
    "\n",
    "There are missing values ​​in the dataset, we need to delete them too"
   ]
  },
  {
   "cell_type": "code",
   "execution_count": 6,
   "id": "95f35c47",
   "metadata": {
    "execution": {
     "iopub.execute_input": "2023-04-01T11:21:29.493115Z",
     "iopub.status.busy": "2023-04-01T11:21:29.492793Z",
     "iopub.status.idle": "2023-04-01T11:21:30.194011Z",
     "shell.execute_reply": "2023-04-01T11:21:30.192478Z"
    },
    "papermill": {
     "duration": 0.714788,
     "end_time": "2023-04-01T11:21:30.196581",
     "exception": false,
     "start_time": "2023-04-01T11:21:29.481793",
     "status": "completed"
    },
    "tags": []
   },
   "outputs": [],
   "source": [
    "def retail_data_prep(dataframe):\n",
    "    dataframe.dropna(inplace=True)\n",
    "    dataframe = dataframe[~dataframe[\"Invoice\"].str.contains(\"C\", na=False)]\n",
    "    dataframe = dataframe[dataframe[\"Quantity\"] > 0]\n",
    "    dataframe = dataframe[dataframe[\"Price\"] > 0]\n",
    "    return dataframe\n",
    "\n",
    "df = retail_data_prep(df)"
   ]
  },
  {
   "cell_type": "code",
   "execution_count": 7,
   "id": "e1fb360d",
   "metadata": {
    "execution": {
     "iopub.execute_input": "2023-04-01T11:21:30.217154Z",
     "iopub.status.busy": "2023-04-01T11:21:30.216814Z",
     "iopub.status.idle": "2023-04-01T11:21:30.264012Z",
     "shell.execute_reply": "2023-04-01T11:21:30.262659Z"
    },
    "papermill": {
     "duration": 0.059997,
     "end_time": "2023-04-01T11:21:30.266081",
     "exception": false,
     "start_time": "2023-04-01T11:21:30.206084",
     "status": "completed"
    },
    "tags": []
   },
   "outputs": [
    {
     "data": {
      "text/html": [
       "<div>\n",
       "<style scoped>\n",
       "    .dataframe tbody tr th:only-of-type {\n",
       "        vertical-align: middle;\n",
       "    }\n",
       "\n",
       "    .dataframe tbody tr th {\n",
       "        vertical-align: top;\n",
       "    }\n",
       "\n",
       "    .dataframe thead th {\n",
       "        text-align: right;\n",
       "    }\n",
       "</style>\n",
       "<table border=\"1\" class=\"dataframe\">\n",
       "  <thead>\n",
       "    <tr style=\"text-align: right;\">\n",
       "      <th></th>\n",
       "      <th>count</th>\n",
       "      <th>mean</th>\n",
       "      <th>std</th>\n",
       "      <th>min</th>\n",
       "      <th>25%</th>\n",
       "      <th>50%</th>\n",
       "      <th>75%</th>\n",
       "      <th>max</th>\n",
       "    </tr>\n",
       "  </thead>\n",
       "  <tbody>\n",
       "    <tr>\n",
       "      <th>Quantity</th>\n",
       "      <td>397885.0</td>\n",
       "      <td>12.988208</td>\n",
       "      <td>179.331551</td>\n",
       "      <td>1.000</td>\n",
       "      <td>2.00</td>\n",
       "      <td>6.00</td>\n",
       "      <td>12.00</td>\n",
       "      <td>80995.00</td>\n",
       "    </tr>\n",
       "    <tr>\n",
       "      <th>Price</th>\n",
       "      <td>397885.0</td>\n",
       "      <td>3.116525</td>\n",
       "      <td>22.097861</td>\n",
       "      <td>0.001</td>\n",
       "      <td>1.25</td>\n",
       "      <td>1.95</td>\n",
       "      <td>3.75</td>\n",
       "      <td>8142.75</td>\n",
       "    </tr>\n",
       "    <tr>\n",
       "      <th>Customer ID</th>\n",
       "      <td>397885.0</td>\n",
       "      <td>15294.416882</td>\n",
       "      <td>1713.144421</td>\n",
       "      <td>12346.000</td>\n",
       "      <td>13969.00</td>\n",
       "      <td>15159.00</td>\n",
       "      <td>16795.00</td>\n",
       "      <td>18287.00</td>\n",
       "    </tr>\n",
       "  </tbody>\n",
       "</table>\n",
       "</div>"
      ],
      "text/plain": [
       "                count          mean          std        min       25%  \\\n",
       "Quantity     397885.0     12.988208   179.331551      1.000      2.00   \n",
       "Price        397885.0      3.116525    22.097861      0.001      1.25   \n",
       "Customer ID  397885.0  15294.416882  1713.144421  12346.000  13969.00   \n",
       "\n",
       "                  50%       75%       max  \n",
       "Quantity         6.00     12.00  80995.00  \n",
       "Price            1.95      3.75   8142.75  \n",
       "Customer ID  15159.00  16795.00  18287.00  "
      ]
     },
     "execution_count": 7,
     "metadata": {},
     "output_type": "execute_result"
    }
   ],
   "source": [
    "df.describe().T"
   ]
  },
  {
   "cell_type": "markdown",
   "id": "613ffee1",
   "metadata": {
    "papermill": {
     "duration": 0.008872,
     "end_time": "2023-04-01T11:21:30.284616",
     "exception": false,
     "start_time": "2023-04-01T11:21:30.275744",
     "status": "completed"
    },
    "tags": []
   },
   "source": [
    "As seen above, we got rid of values ​​from return operations.\n",
    "\n",
    "BUT\n",
    "\n",
    "There are outliers, for example, the closeness between the min, 25%, 50%, 75% of the price value and the closeness between the max value indicate outliers. The same is true for the quantity value"
   ]
  },
  {
   "cell_type": "markdown",
   "id": "51ffde8c",
   "metadata": {
    "papermill": {
     "duration": 0.009092,
     "end_time": "2023-04-01T11:21:30.303106",
     "exception": false,
     "start_time": "2023-04-01T11:21:30.294014",
     "status": "completed"
    },
    "tags": []
   },
   "source": [
    "### **Suppressing outliers**\n",
    "Suppressing outliers refers to the process of removing or modifying extreme values in a dataset that are considered as outliers. Outliers are data points that are significantly different from other data points and are often the result of erroneous measurements or recordings. These values can have unwanted effects on data analysis and modeling and can lead to misleading results. Suppressing outliers is an important step to improve the quality of the dataset and obtain accurate results."
   ]
  },
  {
   "cell_type": "code",
   "execution_count": 8,
   "id": "cc16b82c",
   "metadata": {
    "execution": {
     "iopub.execute_input": "2023-04-01T11:21:30.323729Z",
     "iopub.status.busy": "2023-04-01T11:21:30.323367Z",
     "iopub.status.idle": "2023-04-01T11:21:30.351398Z",
     "shell.execute_reply": "2023-04-01T11:21:30.350019Z"
    },
    "papermill": {
     "duration": 0.041367,
     "end_time": "2023-04-01T11:21:30.354023",
     "exception": false,
     "start_time": "2023-04-01T11:21:30.312656",
     "status": "completed"
    },
    "tags": []
   },
   "outputs": [],
   "source": [
    "def outlier_thresholds(dataframe, variable):\n",
    "    quartile1 = dataframe[variable].quantile(0.01)\n",
    "    quartile3 = dataframe[variable].quantile(0.99)\n",
    "    interquantile_range = quartile3 - quartile1\n",
    "    up_limit = quartile3 + 1.5 * interquantile_range\n",
    "    low_limit = quartile1 - 1.5 * interquantile_range\n",
    "    return low_limit, up_limit\n",
    "\n",
    "def replace_with_thresholds(dataframe, variable):\n",
    "    low_limit, up_limit = outlier_thresholds(dataframe, variable)\n",
    "    dataframe.loc[(dataframe[variable] < low_limit), variable] = low_limit\n",
    "    dataframe.loc[(dataframe[variable] > up_limit), variable] = up_limit\n",
    "\n",
    "replace_with_thresholds(df, \"Quantity\")\n",
    "replace_with_thresholds(df, \"Price\")"
   ]
  },
  {
   "cell_type": "code",
   "execution_count": 9,
   "id": "70cab2ff",
   "metadata": {
    "execution": {
     "iopub.execute_input": "2023-04-01T11:21:30.374996Z",
     "iopub.status.busy": "2023-04-01T11:21:30.374654Z",
     "iopub.status.idle": "2023-04-01T11:21:30.426091Z",
     "shell.execute_reply": "2023-04-01T11:21:30.424573Z"
    },
    "papermill": {
     "duration": 0.064888,
     "end_time": "2023-04-01T11:21:30.428818",
     "exception": false,
     "start_time": "2023-04-01T11:21:30.363930",
     "status": "completed"
    },
    "tags": []
   },
   "outputs": [
    {
     "data": {
      "text/html": [
       "<div>\n",
       "<style scoped>\n",
       "    .dataframe tbody tr th:only-of-type {\n",
       "        vertical-align: middle;\n",
       "    }\n",
       "\n",
       "    .dataframe tbody tr th {\n",
       "        vertical-align: top;\n",
       "    }\n",
       "\n",
       "    .dataframe thead th {\n",
       "        text-align: right;\n",
       "    }\n",
       "</style>\n",
       "<table border=\"1\" class=\"dataframe\">\n",
       "  <thead>\n",
       "    <tr style=\"text-align: right;\">\n",
       "      <th></th>\n",
       "      <th>count</th>\n",
       "      <th>mean</th>\n",
       "      <th>std</th>\n",
       "      <th>min</th>\n",
       "      <th>25%</th>\n",
       "      <th>50%</th>\n",
       "      <th>75%</th>\n",
       "      <th>max</th>\n",
       "    </tr>\n",
       "  </thead>\n",
       "  <tbody>\n",
       "    <tr>\n",
       "      <th>Quantity</th>\n",
       "      <td>397885.0</td>\n",
       "      <td>11.830770</td>\n",
       "      <td>25.523052</td>\n",
       "      <td>1.000</td>\n",
       "      <td>2.00</td>\n",
       "      <td>6.00</td>\n",
       "      <td>12.00</td>\n",
       "      <td>298.50</td>\n",
       "    </tr>\n",
       "    <tr>\n",
       "      <th>Price</th>\n",
       "      <td>397885.0</td>\n",
       "      <td>2.893492</td>\n",
       "      <td>3.227175</td>\n",
       "      <td>0.001</td>\n",
       "      <td>1.25</td>\n",
       "      <td>1.95</td>\n",
       "      <td>3.75</td>\n",
       "      <td>37.06</td>\n",
       "    </tr>\n",
       "    <tr>\n",
       "      <th>Customer ID</th>\n",
       "      <td>397885.0</td>\n",
       "      <td>15294.416882</td>\n",
       "      <td>1713.144421</td>\n",
       "      <td>12346.000</td>\n",
       "      <td>13969.00</td>\n",
       "      <td>15159.00</td>\n",
       "      <td>16795.00</td>\n",
       "      <td>18287.00</td>\n",
       "    </tr>\n",
       "  </tbody>\n",
       "</table>\n",
       "</div>"
      ],
      "text/plain": [
       "                count          mean          std        min       25%  \\\n",
       "Quantity     397885.0     11.830770    25.523052      1.000      2.00   \n",
       "Price        397885.0      2.893492     3.227175      0.001      1.25   \n",
       "Customer ID  397885.0  15294.416882  1713.144421  12346.000  13969.00   \n",
       "\n",
       "                  50%       75%       max  \n",
       "Quantity         6.00     12.00    298.50  \n",
       "Price            1.95      3.75     37.06  \n",
       "Customer ID  15159.00  16795.00  18287.00  "
      ]
     },
     "execution_count": 9,
     "metadata": {},
     "output_type": "execute_result"
    }
   ],
   "source": [
    "df.describe().T"
   ]
  },
  {
   "cell_type": "markdown",
   "id": "d1d9247b",
   "metadata": {
    "papermill": {
     "duration": 0.009517,
     "end_time": "2023-04-01T11:21:30.449285",
     "exception": false,
     "start_time": "2023-04-01T11:21:30.439768",
     "status": "completed"
    },
    "tags": []
   },
   "source": [
    "As can be seen, this difference has decreased to a reasonable level."
   ]
  },
  {
   "cell_type": "markdown",
   "id": "3bc81502",
   "metadata": {
    "papermill": {
     "duration": 0.009526,
     "end_time": "2023-04-01T11:21:30.468914",
     "exception": false,
     "start_time": "2023-04-01T11:21:30.459388",
     "status": "completed"
    },
    "tags": []
   },
   "source": [
    "# Preparing ARL Data Structure (Invoice-Product Matrix)\n",
    "\n",
    "ARL stands for Association Rule Learning, which is a data mining technique used to discover relationships between items in a dataset. ARL Data Structure is the data structure used in the ARL algorithm and it stores frequency-based itemset data.\n",
    "\n",
    "ARL Data Structure helps to discover association rules between items by calculating their frequency of occurrence in the dataset. This data structure contains pre-processed data for the ARL algorithm to work on, and also allows for the processing of new data.\n",
    "\n",
    "ARL Data Structure is typically represented as a multidimensional matrix, with each dimension representing an item in an itemset. For example, in a market dataset, a two-dimensional matrix can be created for \"milk\" and \"bread\" items. This matrix will contain frequency-based data for these two items occurring together.\n",
    "\n",
    "ARL Data Structure is used to analyze relationships between items and helps the ARL algorithm to discover association rules in the dataset."
   ]
  },
  {
   "cell_type": "markdown",
   "id": "9c5e9211",
   "metadata": {
    "papermill": {
     "duration": 0.009567,
     "end_time": "2023-04-01T11:21:30.488550",
     "exception": false,
     "start_time": "2023-04-01T11:21:30.478983",
     "status": "completed"
    },
    "tags": []
   },
   "source": [
    "Since the dataset is very large, I will continue by reducing the dataset to one country."
   ]
  },
  {
   "cell_type": "code",
   "execution_count": 10,
   "id": "1dd3de98",
   "metadata": {
    "execution": {
     "iopub.execute_input": "2023-04-01T11:21:30.510286Z",
     "iopub.status.busy": "2023-04-01T11:21:30.509922Z",
     "iopub.status.idle": "2023-04-01T11:21:30.543181Z",
     "shell.execute_reply": "2023-04-01T11:21:30.541674Z"
    },
    "papermill": {
     "duration": 0.047355,
     "end_time": "2023-04-01T11:21:30.545864",
     "exception": false,
     "start_time": "2023-04-01T11:21:30.498509",
     "status": "completed"
    },
    "tags": []
   },
   "outputs": [
    {
     "data": {
      "text/plain": [
       "(8342, 8)"
      ]
     },
     "execution_count": 10,
     "metadata": {},
     "output_type": "execute_result"
    }
   ],
   "source": [
    "df_fr = df[df['Country'] == \"France\"]\n",
    "df_fr.shape"
   ]
  },
  {
   "cell_type": "markdown",
   "id": "c4c07540",
   "metadata": {
    "papermill": {
     "duration": 0.009962,
     "end_time": "2023-04-01T11:21:30.566029",
     "exception": false,
     "start_time": "2023-04-01T11:21:30.556067",
     "status": "completed"
    },
    "tags": []
   },
   "source": [
    "We are trying to obtain a dataframe with invoice in the row, products in the column and quantity in the column."
   ]
  },
  {
   "cell_type": "code",
   "execution_count": 11,
   "id": "1d23ef31",
   "metadata": {
    "execution": {
     "iopub.execute_input": "2023-04-01T11:21:30.587940Z",
     "iopub.status.busy": "2023-04-01T11:21:30.587547Z",
     "iopub.status.idle": "2023-04-01T11:21:30.613914Z",
     "shell.execute_reply": "2023-04-01T11:21:30.612271Z"
    },
    "papermill": {
     "duration": 0.039975,
     "end_time": "2023-04-01T11:21:30.616149",
     "exception": false,
     "start_time": "2023-04-01T11:21:30.576174",
     "status": "completed"
    },
    "tags": []
   },
   "outputs": [
    {
     "data": {
      "text/html": [
       "<div>\n",
       "<style scoped>\n",
       "    .dataframe tbody tr th:only-of-type {\n",
       "        vertical-align: middle;\n",
       "    }\n",
       "\n",
       "    .dataframe tbody tr th {\n",
       "        vertical-align: top;\n",
       "    }\n",
       "\n",
       "    .dataframe thead th {\n",
       "        text-align: right;\n",
       "    }\n",
       "</style>\n",
       "<table border=\"1\" class=\"dataframe\">\n",
       "  <thead>\n",
       "    <tr style=\"text-align: right;\">\n",
       "      <th></th>\n",
       "      <th></th>\n",
       "      <th>Quantity</th>\n",
       "    </tr>\n",
       "    <tr>\n",
       "      <th>Invoice</th>\n",
       "      <th>Description</th>\n",
       "      <th></th>\n",
       "    </tr>\n",
       "  </thead>\n",
       "  <tbody>\n",
       "    <tr>\n",
       "      <th rowspan=\"20\" valign=\"top\">536370</th>\n",
       "      <th>SET 2 TEA TOWELS I LOVE LONDON</th>\n",
       "      <td>24.0</td>\n",
       "    </tr>\n",
       "    <tr>\n",
       "      <th>ALARM CLOCK BAKELIKE GREEN</th>\n",
       "      <td>12.0</td>\n",
       "    </tr>\n",
       "    <tr>\n",
       "      <th>ALARM CLOCK BAKELIKE PINK</th>\n",
       "      <td>24.0</td>\n",
       "    </tr>\n",
       "    <tr>\n",
       "      <th>ALARM CLOCK BAKELIKE RED</th>\n",
       "      <td>24.0</td>\n",
       "    </tr>\n",
       "    <tr>\n",
       "      <th>CHARLOTTE BAG DOLLY GIRL DESIGN</th>\n",
       "      <td>20.0</td>\n",
       "    </tr>\n",
       "    <tr>\n",
       "      <th>CIRCUS PARADE LUNCH BOX</th>\n",
       "      <td>24.0</td>\n",
       "    </tr>\n",
       "    <tr>\n",
       "      <th>INFLATABLE POLITICAL GLOBE</th>\n",
       "      <td>48.0</td>\n",
       "    </tr>\n",
       "    <tr>\n",
       "      <th>LUNCH BOX I LOVE LONDON</th>\n",
       "      <td>24.0</td>\n",
       "    </tr>\n",
       "    <tr>\n",
       "      <th>MINI JIGSAW CIRCUS PARADE</th>\n",
       "      <td>24.0</td>\n",
       "    </tr>\n",
       "    <tr>\n",
       "      <th>MINI JIGSAW SPACEBOY</th>\n",
       "      <td>24.0</td>\n",
       "    </tr>\n",
       "    <tr>\n",
       "      <th>MINI PAINT SET VINTAGE</th>\n",
       "      <td>36.0</td>\n",
       "    </tr>\n",
       "    <tr>\n",
       "      <th>PANDA AND BUNNIES STICKER SHEET</th>\n",
       "      <td>12.0</td>\n",
       "    </tr>\n",
       "    <tr>\n",
       "      <th>POSTAGE</th>\n",
       "      <td>3.0</td>\n",
       "    </tr>\n",
       "    <tr>\n",
       "      <th>RED TOADSTOOL LED NIGHT LIGHT</th>\n",
       "      <td>24.0</td>\n",
       "    </tr>\n",
       "    <tr>\n",
       "      <th>ROUND SNACK BOXES SET OF4 WOODLAND</th>\n",
       "      <td>24.0</td>\n",
       "    </tr>\n",
       "    <tr>\n",
       "      <th>SET/2 RED RETROSPOT TEA TOWELS</th>\n",
       "      <td>18.0</td>\n",
       "    </tr>\n",
       "    <tr>\n",
       "      <th>SPACEBOY LUNCH BOX</th>\n",
       "      <td>24.0</td>\n",
       "    </tr>\n",
       "    <tr>\n",
       "      <th>STARS GIFT TAPE</th>\n",
       "      <td>24.0</td>\n",
       "    </tr>\n",
       "    <tr>\n",
       "      <th>VINTAGE HEADS AND TAILS CARD GAME</th>\n",
       "      <td>24.0</td>\n",
       "    </tr>\n",
       "    <tr>\n",
       "      <th>VINTAGE SEASIDE JIGSAW PUZZLES</th>\n",
       "      <td>12.0</td>\n",
       "    </tr>\n",
       "  </tbody>\n",
       "</table>\n",
       "</div>"
      ],
      "text/plain": [
       "                                             Quantity\n",
       "Invoice Description                                  \n",
       "536370   SET 2 TEA TOWELS I LOVE LONDON          24.0\n",
       "        ALARM CLOCK BAKELIKE GREEN               12.0\n",
       "        ALARM CLOCK BAKELIKE PINK                24.0\n",
       "        ALARM CLOCK BAKELIKE RED                 24.0\n",
       "        CHARLOTTE BAG DOLLY GIRL DESIGN          20.0\n",
       "        CIRCUS PARADE LUNCH BOX                  24.0\n",
       "        INFLATABLE POLITICAL GLOBE               48.0\n",
       "        LUNCH BOX I LOVE LONDON                  24.0\n",
       "        MINI JIGSAW CIRCUS PARADE                24.0\n",
       "        MINI JIGSAW SPACEBOY                     24.0\n",
       "        MINI PAINT SET VINTAGE                   36.0\n",
       "        PANDA AND BUNNIES STICKER SHEET          12.0\n",
       "        POSTAGE                                   3.0\n",
       "        RED TOADSTOOL LED NIGHT LIGHT            24.0\n",
       "        ROUND SNACK BOXES SET OF4 WOODLAND       24.0\n",
       "        SET/2 RED RETROSPOT TEA TOWELS           18.0\n",
       "        SPACEBOY LUNCH BOX                       24.0\n",
       "        STARS GIFT TAPE                          24.0\n",
       "        VINTAGE HEADS AND TAILS CARD GAME        24.0\n",
       "        VINTAGE SEASIDE JIGSAW PUZZLES           12.0"
      ]
     },
     "execution_count": 11,
     "metadata": {},
     "output_type": "execute_result"
    }
   ],
   "source": [
    "df_fr.groupby(['Invoice', 'Description']).agg({\"Quantity\": \"sum\"}).head(20)"
   ]
  },
  {
   "cell_type": "code",
   "execution_count": 12,
   "id": "2a0099ac",
   "metadata": {
    "execution": {
     "iopub.execute_input": "2023-04-01T11:21:30.638306Z",
     "iopub.status.busy": "2023-04-01T11:21:30.637938Z",
     "iopub.status.idle": "2023-04-01T11:21:30.669725Z",
     "shell.execute_reply": "2023-04-01T11:21:30.668110Z"
    },
    "papermill": {
     "duration": 0.045893,
     "end_time": "2023-04-01T11:21:30.672566",
     "exception": false,
     "start_time": "2023-04-01T11:21:30.626673",
     "status": "completed"
    },
    "tags": []
   },
   "outputs": [
    {
     "data": {
      "text/html": [
       "<div>\n",
       "<style scoped>\n",
       "    .dataframe tbody tr th:only-of-type {\n",
       "        vertical-align: middle;\n",
       "    }\n",
       "\n",
       "    .dataframe tbody tr th {\n",
       "        vertical-align: top;\n",
       "    }\n",
       "\n",
       "    .dataframe thead tr th {\n",
       "        text-align: left;\n",
       "    }\n",
       "\n",
       "    .dataframe thead tr:last-of-type th {\n",
       "        text-align: right;\n",
       "    }\n",
       "</style>\n",
       "<table border=\"1\" class=\"dataframe\">\n",
       "  <thead>\n",
       "    <tr>\n",
       "      <th></th>\n",
       "      <th colspan=\"5\" halign=\"left\">Quantity</th>\n",
       "    </tr>\n",
       "    <tr>\n",
       "      <th>Description</th>\n",
       "      <th>50'S CHRISTMAS GIFT BAG LARGE</th>\n",
       "      <th>DOLLY GIRL BEAKER</th>\n",
       "      <th>I LOVE LONDON MINI BACKPACK</th>\n",
       "      <th>NINE DRAWER OFFICE TIDY</th>\n",
       "      <th>SET 2 TEA TOWELS I LOVE LONDON</th>\n",
       "    </tr>\n",
       "    <tr>\n",
       "      <th>Invoice</th>\n",
       "      <th></th>\n",
       "      <th></th>\n",
       "      <th></th>\n",
       "      <th></th>\n",
       "      <th></th>\n",
       "    </tr>\n",
       "  </thead>\n",
       "  <tbody>\n",
       "    <tr>\n",
       "      <th>536370</th>\n",
       "      <td>NaN</td>\n",
       "      <td>NaN</td>\n",
       "      <td>NaN</td>\n",
       "      <td>NaN</td>\n",
       "      <td>24.0</td>\n",
       "    </tr>\n",
       "    <tr>\n",
       "      <th>536852</th>\n",
       "      <td>NaN</td>\n",
       "      <td>NaN</td>\n",
       "      <td>NaN</td>\n",
       "      <td>NaN</td>\n",
       "      <td>NaN</td>\n",
       "    </tr>\n",
       "    <tr>\n",
       "      <th>536974</th>\n",
       "      <td>NaN</td>\n",
       "      <td>NaN</td>\n",
       "      <td>NaN</td>\n",
       "      <td>NaN</td>\n",
       "      <td>NaN</td>\n",
       "    </tr>\n",
       "    <tr>\n",
       "      <th>537065</th>\n",
       "      <td>NaN</td>\n",
       "      <td>NaN</td>\n",
       "      <td>NaN</td>\n",
       "      <td>NaN</td>\n",
       "      <td>NaN</td>\n",
       "    </tr>\n",
       "    <tr>\n",
       "      <th>537463</th>\n",
       "      <td>NaN</td>\n",
       "      <td>NaN</td>\n",
       "      <td>NaN</td>\n",
       "      <td>NaN</td>\n",
       "      <td>NaN</td>\n",
       "    </tr>\n",
       "  </tbody>\n",
       "</table>\n",
       "</div>"
      ],
      "text/plain": [
       "                                  Quantity                     \\\n",
       "Description  50'S CHRISTMAS GIFT BAG LARGE  DOLLY GIRL BEAKER   \n",
       "Invoice                                                         \n",
       "536370                                 NaN                NaN   \n",
       "536852                                 NaN                NaN   \n",
       "536974                                 NaN                NaN   \n",
       "537065                                 NaN                NaN   \n",
       "537463                                 NaN                NaN   \n",
       "\n",
       "                                                                   \\\n",
       "Description  I LOVE LONDON MINI BACKPACK  NINE DRAWER OFFICE TIDY   \n",
       "Invoice                                                             \n",
       "536370                               NaN                      NaN   \n",
       "536852                               NaN                      NaN   \n",
       "536974                               NaN                      NaN   \n",
       "537065                               NaN                      NaN   \n",
       "537463                               NaN                      NaN   \n",
       "\n",
       "                                              \n",
       "Description  SET 2 TEA TOWELS I LOVE LONDON   \n",
       "Invoice                                       \n",
       "536370                                  24.0  \n",
       "536852                                   NaN  \n",
       "536974                                   NaN  \n",
       "537065                                   NaN  \n",
       "537463                                   NaN  "
      ]
     },
     "execution_count": 12,
     "metadata": {},
     "output_type": "execute_result"
    }
   ],
   "source": [
    "df_fr.groupby(['Invoice', 'Description']).agg({\"Quantity\": \"sum\"}).unstack().iloc[0:5, 0:5]"
   ]
  },
  {
   "cell_type": "markdown",
   "id": "aae51407",
   "metadata": {
    "papermill": {
     "duration": 0.010197,
     "end_time": "2023-04-01T11:21:30.693562",
     "exception": false,
     "start_time": "2023-04-01T11:21:30.683365",
     "status": "completed"
    },
    "tags": []
   },
   "source": [
    "We will fill null values ​​with 0"
   ]
  },
  {
   "cell_type": "code",
   "execution_count": 13,
   "id": "3d06125f",
   "metadata": {
    "execution": {
     "iopub.execute_input": "2023-04-01T11:21:30.716794Z",
     "iopub.status.busy": "2023-04-01T11:21:30.716413Z",
     "iopub.status.idle": "2023-04-01T11:21:30.745190Z",
     "shell.execute_reply": "2023-04-01T11:21:30.743650Z"
    },
    "papermill": {
     "duration": 0.04325,
     "end_time": "2023-04-01T11:21:30.747377",
     "exception": false,
     "start_time": "2023-04-01T11:21:30.704127",
     "status": "completed"
    },
    "tags": []
   },
   "outputs": [
    {
     "data": {
      "text/html": [
       "<div>\n",
       "<style scoped>\n",
       "    .dataframe tbody tr th:only-of-type {\n",
       "        vertical-align: middle;\n",
       "    }\n",
       "\n",
       "    .dataframe tbody tr th {\n",
       "        vertical-align: top;\n",
       "    }\n",
       "\n",
       "    .dataframe thead tr th {\n",
       "        text-align: left;\n",
       "    }\n",
       "\n",
       "    .dataframe thead tr:last-of-type th {\n",
       "        text-align: right;\n",
       "    }\n",
       "</style>\n",
       "<table border=\"1\" class=\"dataframe\">\n",
       "  <thead>\n",
       "    <tr>\n",
       "      <th></th>\n",
       "      <th colspan=\"5\" halign=\"left\">Quantity</th>\n",
       "    </tr>\n",
       "    <tr>\n",
       "      <th>Description</th>\n",
       "      <th>50'S CHRISTMAS GIFT BAG LARGE</th>\n",
       "      <th>DOLLY GIRL BEAKER</th>\n",
       "      <th>I LOVE LONDON MINI BACKPACK</th>\n",
       "      <th>NINE DRAWER OFFICE TIDY</th>\n",
       "      <th>SET 2 TEA TOWELS I LOVE LONDON</th>\n",
       "    </tr>\n",
       "    <tr>\n",
       "      <th>Invoice</th>\n",
       "      <th></th>\n",
       "      <th></th>\n",
       "      <th></th>\n",
       "      <th></th>\n",
       "      <th></th>\n",
       "    </tr>\n",
       "  </thead>\n",
       "  <tbody>\n",
       "    <tr>\n",
       "      <th>536370</th>\n",
       "      <td>0.0</td>\n",
       "      <td>0.0</td>\n",
       "      <td>0.0</td>\n",
       "      <td>0.0</td>\n",
       "      <td>24.0</td>\n",
       "    </tr>\n",
       "    <tr>\n",
       "      <th>536852</th>\n",
       "      <td>0.0</td>\n",
       "      <td>0.0</td>\n",
       "      <td>0.0</td>\n",
       "      <td>0.0</td>\n",
       "      <td>0.0</td>\n",
       "    </tr>\n",
       "    <tr>\n",
       "      <th>536974</th>\n",
       "      <td>0.0</td>\n",
       "      <td>0.0</td>\n",
       "      <td>0.0</td>\n",
       "      <td>0.0</td>\n",
       "      <td>0.0</td>\n",
       "    </tr>\n",
       "    <tr>\n",
       "      <th>537065</th>\n",
       "      <td>0.0</td>\n",
       "      <td>0.0</td>\n",
       "      <td>0.0</td>\n",
       "      <td>0.0</td>\n",
       "      <td>0.0</td>\n",
       "    </tr>\n",
       "    <tr>\n",
       "      <th>537463</th>\n",
       "      <td>0.0</td>\n",
       "      <td>0.0</td>\n",
       "      <td>0.0</td>\n",
       "      <td>0.0</td>\n",
       "      <td>0.0</td>\n",
       "    </tr>\n",
       "  </tbody>\n",
       "</table>\n",
       "</div>"
      ],
      "text/plain": [
       "                                  Quantity                     \\\n",
       "Description  50'S CHRISTMAS GIFT BAG LARGE  DOLLY GIRL BEAKER   \n",
       "Invoice                                                         \n",
       "536370                                 0.0                0.0   \n",
       "536852                                 0.0                0.0   \n",
       "536974                                 0.0                0.0   \n",
       "537065                                 0.0                0.0   \n",
       "537463                                 0.0                0.0   \n",
       "\n",
       "                                                                   \\\n",
       "Description  I LOVE LONDON MINI BACKPACK  NINE DRAWER OFFICE TIDY   \n",
       "Invoice                                                             \n",
       "536370                               0.0                      0.0   \n",
       "536852                               0.0                      0.0   \n",
       "536974                               0.0                      0.0   \n",
       "537065                               0.0                      0.0   \n",
       "537463                               0.0                      0.0   \n",
       "\n",
       "                                              \n",
       "Description  SET 2 TEA TOWELS I LOVE LONDON   \n",
       "Invoice                                       \n",
       "536370                                  24.0  \n",
       "536852                                   0.0  \n",
       "536974                                   0.0  \n",
       "537065                                   0.0  \n",
       "537463                                   0.0  "
      ]
     },
     "execution_count": 13,
     "metadata": {},
     "output_type": "execute_result"
    }
   ],
   "source": [
    "df_fr.groupby(['Invoice', 'Description']).agg({\"Quantity\": \"sum\"}).unstack().fillna(0).iloc[0:5, 0:5]"
   ]
  },
  {
   "cell_type": "markdown",
   "id": "6da65ac2",
   "metadata": {
    "papermill": {
     "duration": 0.010851,
     "end_time": "2023-04-01T11:21:30.769899",
     "exception": false,
     "start_time": "2023-04-01T11:21:30.759048",
     "status": "completed"
    },
    "tags": []
   },
   "source": [
    "If there are values ​​greater than 0 we will make them 1"
   ]
  },
  {
   "cell_type": "code",
   "execution_count": 14,
   "id": "a7b46c2c",
   "metadata": {
    "execution": {
     "iopub.execute_input": "2023-04-01T11:21:30.793969Z",
     "iopub.status.busy": "2023-04-01T11:21:30.793551Z",
     "iopub.status.idle": "2023-04-01T11:21:31.292063Z",
     "shell.execute_reply": "2023-04-01T11:21:31.290776Z"
    },
    "papermill": {
     "duration": 0.513921,
     "end_time": "2023-04-01T11:21:31.294870",
     "exception": false,
     "start_time": "2023-04-01T11:21:30.780949",
     "status": "completed"
    },
    "tags": []
   },
   "outputs": [
    {
     "data": {
      "text/html": [
       "<div>\n",
       "<style scoped>\n",
       "    .dataframe tbody tr th:only-of-type {\n",
       "        vertical-align: middle;\n",
       "    }\n",
       "\n",
       "    .dataframe tbody tr th {\n",
       "        vertical-align: top;\n",
       "    }\n",
       "\n",
       "    .dataframe thead tr th {\n",
       "        text-align: left;\n",
       "    }\n",
       "\n",
       "    .dataframe thead tr:last-of-type th {\n",
       "        text-align: right;\n",
       "    }\n",
       "</style>\n",
       "<table border=\"1\" class=\"dataframe\">\n",
       "  <thead>\n",
       "    <tr>\n",
       "      <th></th>\n",
       "      <th colspan=\"5\" halign=\"left\">Quantity</th>\n",
       "    </tr>\n",
       "    <tr>\n",
       "      <th>StockCode</th>\n",
       "      <th>10002</th>\n",
       "      <th>10120</th>\n",
       "      <th>10125</th>\n",
       "      <th>10135</th>\n",
       "      <th>11001</th>\n",
       "    </tr>\n",
       "    <tr>\n",
       "      <th>Invoice</th>\n",
       "      <th></th>\n",
       "      <th></th>\n",
       "      <th></th>\n",
       "      <th></th>\n",
       "      <th></th>\n",
       "    </tr>\n",
       "  </thead>\n",
       "  <tbody>\n",
       "    <tr>\n",
       "      <th>536370</th>\n",
       "      <td>1</td>\n",
       "      <td>0</td>\n",
       "      <td>0</td>\n",
       "      <td>0</td>\n",
       "      <td>0</td>\n",
       "    </tr>\n",
       "    <tr>\n",
       "      <th>536852</th>\n",
       "      <td>0</td>\n",
       "      <td>0</td>\n",
       "      <td>0</td>\n",
       "      <td>0</td>\n",
       "      <td>0</td>\n",
       "    </tr>\n",
       "    <tr>\n",
       "      <th>536974</th>\n",
       "      <td>0</td>\n",
       "      <td>0</td>\n",
       "      <td>0</td>\n",
       "      <td>0</td>\n",
       "      <td>0</td>\n",
       "    </tr>\n",
       "    <tr>\n",
       "      <th>537065</th>\n",
       "      <td>0</td>\n",
       "      <td>0</td>\n",
       "      <td>0</td>\n",
       "      <td>0</td>\n",
       "      <td>0</td>\n",
       "    </tr>\n",
       "    <tr>\n",
       "      <th>537463</th>\n",
       "      <td>0</td>\n",
       "      <td>0</td>\n",
       "      <td>0</td>\n",
       "      <td>0</td>\n",
       "      <td>0</td>\n",
       "    </tr>\n",
       "  </tbody>\n",
       "</table>\n",
       "</div>"
      ],
      "text/plain": [
       "          Quantity                        \n",
       "StockCode    10002 10120 10125 10135 11001\n",
       "Invoice                                   \n",
       "536370           1     0     0     0     0\n",
       "536852           0     0     0     0     0\n",
       "536974           0     0     0     0     0\n",
       "537065           0     0     0     0     0\n",
       "537463           0     0     0     0     0"
      ]
     },
     "execution_count": 14,
     "metadata": {},
     "output_type": "execute_result"
    }
   ],
   "source": [
    "df_fr.groupby(['Invoice', 'StockCode']).agg({\"Quantity\": \"sum\"}).unstack().fillna(0).applymap(lambda x: 1 if x > 0 else 0).iloc[0:5, 0:5]\n"
   ]
  },
  {
   "cell_type": "markdown",
   "id": "676ac0c2",
   "metadata": {
    "papermill": {
     "duration": 0.0104,
     "end_time": "2023-04-01T11:21:31.316207",
     "exception": false,
     "start_time": "2023-04-01T11:21:31.305807",
     "status": "completed"
    },
    "tags": []
   },
   "source": [
    "\n",
    "We have progressed with description here, but we can also do this with stockCode. Let's write a function based on preference"
   ]
  },
  {
   "cell_type": "code",
   "execution_count": 15,
   "id": "979cfaac",
   "metadata": {
    "execution": {
     "iopub.execute_input": "2023-04-01T11:21:31.340113Z",
     "iopub.status.busy": "2023-04-01T11:21:31.339762Z",
     "iopub.status.idle": "2023-04-01T11:21:31.791756Z",
     "shell.execute_reply": "2023-04-01T11:21:31.790033Z"
    },
    "papermill": {
     "duration": 0.467284,
     "end_time": "2023-04-01T11:21:31.794621",
     "exception": false,
     "start_time": "2023-04-01T11:21:31.327337",
     "status": "completed"
    },
    "tags": []
   },
   "outputs": [],
   "source": [
    "def create_invoice_product_df(dataframe, id=False):\n",
    "    if id:\n",
    "        return dataframe.groupby(['Invoice', \"StockCode\"])['Quantity'].sum().unstack().fillna(0). \\\n",
    "            applymap(lambda x: 1 if x > 0 else 0)\n",
    "    else:\n",
    "        return dataframe.groupby(['Invoice', 'Description'])['Quantity'].sum().unstack().fillna(0). \\\n",
    "            applymap(lambda x: 1 if x > 0 else 0)\n",
    "fr_inv_pro_df = create_invoice_product_df(df_fr, id=True)"
   ]
  },
  {
   "cell_type": "markdown",
   "id": "9405ae88",
   "metadata": {
    "papermill": {
     "duration": 0.010547,
     "end_time": "2023-04-01T11:21:31.816098",
     "exception": false,
     "start_time": "2023-04-01T11:21:31.805551",
     "status": "completed"
    },
    "tags": []
   },
   "source": [
    "Function for which id which product question"
   ]
  },
  {
   "cell_type": "code",
   "execution_count": 16,
   "id": "fe962c1e",
   "metadata": {
    "execution": {
     "iopub.execute_input": "2023-04-01T11:21:31.839192Z",
     "iopub.status.busy": "2023-04-01T11:21:31.838831Z",
     "iopub.status.idle": "2023-04-01T11:21:31.844512Z",
     "shell.execute_reply": "2023-04-01T11:21:31.843385Z"
    },
    "papermill": {
     "duration": 0.019843,
     "end_time": "2023-04-01T11:21:31.846549",
     "exception": false,
     "start_time": "2023-04-01T11:21:31.826706",
     "status": "completed"
    },
    "tags": []
   },
   "outputs": [],
   "source": [
    "def check_id(dataframe, stock_code):\n",
    "    product_name = dataframe[dataframe[\"StockCode\"] == stock_code][[\"Description\"]].values[0].tolist()\n",
    "    print(product_name)"
   ]
  },
  {
   "cell_type": "code",
   "execution_count": 17,
   "id": "013d8c31",
   "metadata": {
    "execution": {
     "iopub.execute_input": "2023-04-01T11:21:31.870280Z",
     "iopub.status.busy": "2023-04-01T11:21:31.869853Z",
     "iopub.status.idle": "2023-04-01T11:21:31.880372Z",
     "shell.execute_reply": "2023-04-01T11:21:31.878661Z"
    },
    "papermill": {
     "duration": 0.025504,
     "end_time": "2023-04-01T11:21:31.882779",
     "exception": false,
     "start_time": "2023-04-01T11:21:31.857275",
     "status": "completed"
    },
    "tags": []
   },
   "outputs": [
    {
     "name": "stdout",
     "output_type": "stream",
     "text": [
      "['DOGGY RUBBER']\n"
     ]
    }
   ],
   "source": [
    "check_id(df_fr, 10120)"
   ]
  },
  {
   "cell_type": "markdown",
   "id": "3077c504",
   "metadata": {
    "papermill": {
     "duration": 0.011089,
     "end_time": "2023-04-01T11:21:31.904929",
     "exception": false,
     "start_time": "2023-04-01T11:21:31.893840",
     "status": "completed"
    },
    "tags": []
   },
   "source": [
    "# Extracting Association Rules"
   ]
  },
  {
   "cell_type": "markdown",
   "id": "c0d16bbb",
   "metadata": {
    "papermill": {
     "duration": 0.01101,
     "end_time": "2023-04-01T11:21:31.927204",
     "exception": false,
     "start_time": "2023-04-01T11:21:31.916194",
     "status": "completed"
    },
    "tags": []
   },
   "source": [
    "Extracting Association Rules is the process of discovering frequent patterns, relationships, and associations among items in a dataset using Association Rule Learning (ARL) algorithms. The aim of extracting association rules is to identify relationships between different items and to derive insights that can be used for various applications.\n",
    "\n",
    "In this process, the ARL algorithm scans through the dataset and identifies frequent itemsets, which are sets of items that occur together frequently. It then uses these frequent itemsets to generate association rules that describe the relationships between items. These rules are usually presented in the form of \"if X, then Y\", where X and Y are itemsets.\n",
    "\n",
    "For example, in a retail dataset, an association rule may be \"if a customer buys bread and milk, they are likely to also buy butter\". These rules can be used to identify buying patterns and to develop targeted marketing strategies.\n",
    "\n",
    "Extracting Association Rules is a crucial step in data mining and is used in various fields such as market basket analysis, customer segmentation, and recommendation systems. It helps organizations to understand the relationships between different items and to make informed decisions based on the insights derived from these relationships.\n",
    "\n",
    "## Association Rules\n",
    "### Support\n",
    "Support is a term used in Association Rule Learning (ARL) to measure the frequency of occurrence of an itemset in a dataset. It is a key metric used in the process of discovering frequent itemsets and generating association rules.\n",
    "\n",
    "In ARL, support is defined as the proportion of transactions in a dataset that contain a particular itemset. For example, if we are analyzing a retail dataset and the itemset is \"bread and milk\", then the support for this itemset would be the percentage of transactions in the dataset that include both \"bread and milk\".\n",
    "\n",
    "Support is used as a measure of significance and is usually represented as a percentage or decimal value between 0 and 1. Higher support values indicate that the itemset is more frequent in the dataset and therefore more significant.\n",
    "\n",
    "Support is an important metric in ARL as it is used to identify frequent itemsets, which are sets of items that occur together frequently. These frequent itemsets are then used to generate association rules, which can provide insights into the relationships between different items in the dataset.\n",
    "\n",
    "### Confidence\n",
    "Confidence is an important metric in Association Rule Learning (ARL). It measures the strength of the relationship between the antecedent and consequent of an association rule. Confidence is defined as the conditional probability of finding the consequent itemset in a transaction given that the antecedent itemset is present in the same transaction.\n",
    "\n",
    "In other words, confidence measures how often the consequent itemset appears in transactions that contain the antecedent itemset. For example, if the antecedent itemset is \"bread and milk\", confidence would measure the likelihood of finding \"milk\" in transactions that already contain \"bread\". Confidence values range from 0 to 1, with higher values indicating stronger relationships between the antecedent and consequent itemsets.\n",
    "\n",
    "Confidence is used to evaluate the quality of association rules generated by ARL algorithms. A rule with high confidence indicates that the presence of the antecedent itemset is highly predictive of the presence of the consequent itemset in transactions. This information can be used to guide decision making in areas such as marketing and sales, where understanding customer behavior and preferences is critical.\n",
    "\n",
    "### Lift\n",
    "Lift is an important metric in Association Rule Learning (ARL). It measures the strength of association between the antecedent and consequent of an association rule, while taking into account the frequency of the consequent itemset in the dataset.\n",
    "\n",
    "Lift is defined as the ratio of the observed support of the antecedent and consequent itemsets to the expected support if they were independent. In other words, lift measures how much more often the consequent itemset appears in transactions containing the antecedent itemset compared to its expected frequency if the two itemsets were independent.\n",
    "\n",
    "A lift value greater than 1 indicates that the antecedent and consequent itemsets are positively correlated, meaning that the presence of the antecedent itemset in a transaction increases the likelihood of the consequent itemset being present. A lift value equal to 1 indicates that the antecedent and consequent itemsets are independent, while a lift value less than 1 indicates a negative correlation between the itemsets.\n",
    "\n",
    "Lift is often used in combination with support and confidence to evaluate the quality of association rules generated by ARL algorithms. A rule with high lift indicates a strong relationship between the antecedent and consequent itemsets that is not due to chance, and can be used to guide decision making in areas such as product recommendations and market basket analysis.\n",
    "\n",
    "### Leverage\n",
    "Leverage is a measure in Association Rule Learning (ARL) that assesses the level of independence between the antecedent and consequent of an association rule.\n",
    "\n",
    "Leverage is a measure of the difference between the observed frequency of the antecedent and consequent itemsets in the dataset, and their expected frequency under independence. In other words, leverage determines how often the antecedent and consequent itemsets occur together compared to what is expected by chance.\n",
    "\n",
    "As the leverage value approaches 0, the relationship between the antecedent and consequent itemsets becomes weaker. On the other hand, a positive leverage value indicates that the antecedent and consequent itemsets occur together more often than expected, indicating a strong relationship between them.\n",
    "\n",
    "Leverage is used in conjunction with support and confidence to evaluate the quality of association rules generated by ARL algorithms. High leverage values indicate a strong relationship between the antecedent and consequent itemsets, and these rules can be used to support decision making in areas such as product recommendations and market basket analysis.\n",
    "\n",
    "### Conviction\n",
    "\n",
    "Conviction is a measure in Association Rule Learning (ARL) that is used to assess the level of dependence between the antecedent and consequent of an association rule.\n",
    "\n",
    "Conviction is a ratio that compares the probability that the antecedent and consequent are not related, given their marginal probabilities, to the actual dependency between them. It is calculated by dividing the probability that the antecedent and consequent are not related by the probability that they are not related, given the antecedent.\n",
    "\n",
    "Conviction values range from 0 to infinity. A conviction value of 1 indicates that the antecedent and consequent are independent, while a value greater than 1 indicates a positive dependence, and a value less than 1 indicates a negative dependence.\n",
    "\n",
    "Conviction is used in conjunction with support, confidence, and lift to evaluate the quality of association rules generated by ARL algorithms. High conviction values indicate a strong dependence between the antecedent and consequent itemsets, making the rules more valuable for decision making, such as in marketing campaigns or cross-selling strategies.\n"
   ]
  },
  {
   "cell_type": "code",
   "execution_count": 18,
   "id": "44da6573",
   "metadata": {
    "execution": {
     "iopub.execute_input": "2023-04-01T11:21:31.952158Z",
     "iopub.status.busy": "2023-04-01T11:21:31.951794Z",
     "iopub.status.idle": "2023-04-01T11:21:43.280954Z",
     "shell.execute_reply": "2023-04-01T11:21:43.279032Z"
    },
    "papermill": {
     "duration": 11.344943,
     "end_time": "2023-04-01T11:21:43.283692",
     "exception": false,
     "start_time": "2023-04-01T11:21:31.938749",
     "status": "completed"
    },
    "tags": []
   },
   "outputs": [
    {
     "name": "stderr",
     "output_type": "stream",
     "text": [
      "/opt/conda/lib/python3.7/site-packages/mlxtend/frequent_patterns/fpcommon.py:115: DeprecationWarning: DataFrames with non-bool types result in worse computationalperformance and their support might be discontinued in the future.Please use a DataFrame with bool type\n",
      "  DeprecationWarning,\n"
     ]
    }
   ],
   "source": [
    "frequent_itemsets = apriori(fr_inv_pro_df,\n",
    "                            min_support=0.01,\n",
    "                            use_colnames=True)"
   ]
  },
  {
   "cell_type": "code",
   "execution_count": 19,
   "id": "686f8492",
   "metadata": {
    "execution": {
     "iopub.execute_input": "2023-04-01T11:21:43.308907Z",
     "iopub.status.busy": "2023-04-01T11:21:43.307392Z",
     "iopub.status.idle": "2023-04-01T11:21:43.328399Z",
     "shell.execute_reply": "2023-04-01T11:21:43.326580Z"
    },
    "papermill": {
     "duration": 0.03633,
     "end_time": "2023-04-01T11:21:43.331147",
     "exception": false,
     "start_time": "2023-04-01T11:21:43.294817",
     "status": "completed"
    },
    "tags": []
   },
   "outputs": [
    {
     "data": {
      "text/html": [
       "<div>\n",
       "<style scoped>\n",
       "    .dataframe tbody tr th:only-of-type {\n",
       "        vertical-align: middle;\n",
       "    }\n",
       "\n",
       "    .dataframe tbody tr th {\n",
       "        vertical-align: top;\n",
       "    }\n",
       "\n",
       "    .dataframe thead th {\n",
       "        text-align: right;\n",
       "    }\n",
       "</style>\n",
       "<table border=\"1\" class=\"dataframe\">\n",
       "  <thead>\n",
       "    <tr style=\"text-align: right;\">\n",
       "      <th></th>\n",
       "      <th>support</th>\n",
       "      <th>itemsets</th>\n",
       "    </tr>\n",
       "  </thead>\n",
       "  <tbody>\n",
       "    <tr>\n",
       "      <th>538</th>\n",
       "      <td>0.773779</td>\n",
       "      <td>(POST)</td>\n",
       "    </tr>\n",
       "    <tr>\n",
       "      <th>387</th>\n",
       "      <td>0.187661</td>\n",
       "      <td>(23084)</td>\n",
       "    </tr>\n",
       "    <tr>\n",
       "      <th>107</th>\n",
       "      <td>0.179949</td>\n",
       "      <td>(21731)</td>\n",
       "    </tr>\n",
       "    <tr>\n",
       "      <th>243</th>\n",
       "      <td>0.172237</td>\n",
       "      <td>(22554)</td>\n",
       "    </tr>\n",
       "    <tr>\n",
       "      <th>245</th>\n",
       "      <td>0.169666</td>\n",
       "      <td>(22556)</td>\n",
       "    </tr>\n",
       "    <tr>\n",
       "      <th>...</th>\n",
       "      <td>...</td>\n",
       "      <td>...</td>\n",
       "    </tr>\n",
       "    <tr>\n",
       "      <th>18793</th>\n",
       "      <td>0.010283</td>\n",
       "      <td>(22729, 21086, 22326, 22551)</td>\n",
       "    </tr>\n",
       "    <tr>\n",
       "      <th>18787</th>\n",
       "      <td>0.010283</td>\n",
       "      <td>(23256, 21086, 22492, 22326)</td>\n",
       "    </tr>\n",
       "    <tr>\n",
       "      <th>18786</th>\n",
       "      <td>0.010283</td>\n",
       "      <td>(22728, 21086, 22492, 22326)</td>\n",
       "    </tr>\n",
       "    <tr>\n",
       "      <th>18785</th>\n",
       "      <td>0.010283</td>\n",
       "      <td>(21086, 22492, 22326, 22727)</td>\n",
       "    </tr>\n",
       "    <tr>\n",
       "      <th>40654</th>\n",
       "      <td>0.010283</td>\n",
       "      <td>(22659, 23206, 22726, 22727, 22728, 20750, 223...</td>\n",
       "    </tr>\n",
       "  </tbody>\n",
       "</table>\n",
       "<p>40655 rows × 2 columns</p>\n",
       "</div>"
      ],
      "text/plain": [
       "        support                                           itemsets\n",
       "538    0.773779                                             (POST)\n",
       "387    0.187661                                            (23084)\n",
       "107    0.179949                                            (21731)\n",
       "243    0.172237                                            (22554)\n",
       "245    0.169666                                            (22556)\n",
       "...         ...                                                ...\n",
       "18793  0.010283                       (22729, 21086, 22326, 22551)\n",
       "18787  0.010283                       (23256, 21086, 22492, 22326)\n",
       "18786  0.010283                       (22728, 21086, 22492, 22326)\n",
       "18785  0.010283                       (21086, 22492, 22326, 22727)\n",
       "40654  0.010283  (22659, 23206, 22726, 22727, 22728, 20750, 223...\n",
       "\n",
       "[40655 rows x 2 columns]"
      ]
     },
     "execution_count": 19,
     "metadata": {},
     "output_type": "execute_result"
    }
   ],
   "source": [
    "frequent_itemsets.sort_values(\"support\", ascending=False)"
   ]
  },
  {
   "cell_type": "code",
   "execution_count": 20,
   "id": "24fb7d99",
   "metadata": {
    "execution": {
     "iopub.execute_input": "2023-04-01T11:21:43.355155Z",
     "iopub.status.busy": "2023-04-01T11:21:43.354800Z",
     "iopub.status.idle": "2023-04-01T11:21:53.506305Z",
     "shell.execute_reply": "2023-04-01T11:21:53.504704Z"
    },
    "papermill": {
     "duration": 10.166803,
     "end_time": "2023-04-01T11:21:53.509199",
     "exception": false,
     "start_time": "2023-04-01T11:21:43.342396",
     "status": "completed"
    },
    "tags": []
   },
   "outputs": [],
   "source": [
    "rules = association_rules(frequent_itemsets,\n",
    "                          metric=\"support\",\n",
    "                          min_threshold=0.01)"
   ]
  },
  {
   "cell_type": "code",
   "execution_count": 21,
   "id": "25f32e83",
   "metadata": {
    "execution": {
     "iopub.execute_input": "2023-04-01T11:21:53.535137Z",
     "iopub.status.busy": "2023-04-01T11:21:53.534800Z",
     "iopub.status.idle": "2023-04-01T11:21:53.551496Z",
     "shell.execute_reply": "2023-04-01T11:21:53.549906Z"
    },
    "papermill": {
     "duration": 0.032203,
     "end_time": "2023-04-01T11:21:53.553924",
     "exception": false,
     "start_time": "2023-04-01T11:21:53.521721",
     "status": "completed"
    },
    "tags": []
   },
   "outputs": [
    {
     "data": {
      "text/html": [
       "<div>\n",
       "<style scoped>\n",
       "    .dataframe tbody tr th:only-of-type {\n",
       "        vertical-align: middle;\n",
       "    }\n",
       "\n",
       "    .dataframe tbody tr th {\n",
       "        vertical-align: top;\n",
       "    }\n",
       "\n",
       "    .dataframe thead th {\n",
       "        text-align: right;\n",
       "    }\n",
       "</style>\n",
       "<table border=\"1\" class=\"dataframe\">\n",
       "  <thead>\n",
       "    <tr style=\"text-align: right;\">\n",
       "      <th></th>\n",
       "      <th>antecedents</th>\n",
       "      <th>consequents</th>\n",
       "      <th>antecedent support</th>\n",
       "      <th>consequent support</th>\n",
       "      <th>support</th>\n",
       "      <th>confidence</th>\n",
       "      <th>lift</th>\n",
       "      <th>leverage</th>\n",
       "      <th>conviction</th>\n",
       "    </tr>\n",
       "  </thead>\n",
       "  <tbody>\n",
       "    <tr>\n",
       "      <th>0</th>\n",
       "      <td>(10002)</td>\n",
       "      <td>(21791)</td>\n",
       "      <td>0.020566</td>\n",
       "      <td>0.028278</td>\n",
       "      <td>0.010283</td>\n",
       "      <td>0.500000</td>\n",
       "      <td>17.681818</td>\n",
       "      <td>0.009701</td>\n",
       "      <td>1.943445</td>\n",
       "    </tr>\n",
       "    <tr>\n",
       "      <th>1</th>\n",
       "      <td>(21791)</td>\n",
       "      <td>(10002)</td>\n",
       "      <td>0.028278</td>\n",
       "      <td>0.020566</td>\n",
       "      <td>0.010283</td>\n",
       "      <td>0.363636</td>\n",
       "      <td>17.681818</td>\n",
       "      <td>0.009701</td>\n",
       "      <td>1.539111</td>\n",
       "    </tr>\n",
       "    <tr>\n",
       "      <th>2</th>\n",
       "      <td>(10002)</td>\n",
       "      <td>(21915)</td>\n",
       "      <td>0.020566</td>\n",
       "      <td>0.069409</td>\n",
       "      <td>0.010283</td>\n",
       "      <td>0.500000</td>\n",
       "      <td>7.203704</td>\n",
       "      <td>0.008855</td>\n",
       "      <td>1.861183</td>\n",
       "    </tr>\n",
       "    <tr>\n",
       "      <th>3</th>\n",
       "      <td>(21915)</td>\n",
       "      <td>(10002)</td>\n",
       "      <td>0.069409</td>\n",
       "      <td>0.020566</td>\n",
       "      <td>0.010283</td>\n",
       "      <td>0.148148</td>\n",
       "      <td>7.203704</td>\n",
       "      <td>0.008855</td>\n",
       "      <td>1.149771</td>\n",
       "    </tr>\n",
       "    <tr>\n",
       "      <th>4</th>\n",
       "      <td>(10002)</td>\n",
       "      <td>(22551)</td>\n",
       "      <td>0.020566</td>\n",
       "      <td>0.136247</td>\n",
       "      <td>0.010283</td>\n",
       "      <td>0.500000</td>\n",
       "      <td>3.669811</td>\n",
       "      <td>0.007481</td>\n",
       "      <td>1.727506</td>\n",
       "    </tr>\n",
       "  </tbody>\n",
       "</table>\n",
       "</div>"
      ],
      "text/plain": [
       "  antecedents consequents  antecedent support  consequent support   support  \\\n",
       "0     (10002)     (21791)            0.020566            0.028278  0.010283   \n",
       "1     (21791)     (10002)            0.028278            0.020566  0.010283   \n",
       "2     (10002)     (21915)            0.020566            0.069409  0.010283   \n",
       "3     (21915)     (10002)            0.069409            0.020566  0.010283   \n",
       "4     (10002)     (22551)            0.020566            0.136247  0.010283   \n",
       "\n",
       "   confidence       lift  leverage  conviction  \n",
       "0    0.500000  17.681818  0.009701    1.943445  \n",
       "1    0.363636  17.681818  0.009701    1.539111  \n",
       "2    0.500000   7.203704  0.008855    1.861183  \n",
       "3    0.148148   7.203704  0.008855    1.149771  \n",
       "4    0.500000   3.669811  0.007481    1.727506  "
      ]
     },
     "execution_count": 21,
     "metadata": {},
     "output_type": "execute_result"
    }
   ],
   "source": [
    "rules.head()"
   ]
  },
  {
   "cell_type": "code",
   "execution_count": 22,
   "id": "dfd2a5fe",
   "metadata": {
    "execution": {
     "iopub.execute_input": "2023-04-01T11:21:53.578573Z",
     "iopub.status.busy": "2023-04-01T11:21:53.578177Z",
     "iopub.status.idle": "2023-04-01T11:21:53.628405Z",
     "shell.execute_reply": "2023-04-01T11:21:53.627314Z"
    },
    "papermill": {
     "duration": 0.065748,
     "end_time": "2023-04-01T11:21:53.631109",
     "exception": false,
     "start_time": "2023-04-01T11:21:53.565361",
     "status": "completed"
    },
    "tags": []
   },
   "outputs": [
    {
     "data": {
      "text/html": [
       "<div>\n",
       "<style scoped>\n",
       "    .dataframe tbody tr th:only-of-type {\n",
       "        vertical-align: middle;\n",
       "    }\n",
       "\n",
       "    .dataframe tbody tr th {\n",
       "        vertical-align: top;\n",
       "    }\n",
       "\n",
       "    .dataframe thead th {\n",
       "        text-align: right;\n",
       "    }\n",
       "</style>\n",
       "<table border=\"1\" class=\"dataframe\">\n",
       "  <thead>\n",
       "    <tr style=\"text-align: right;\">\n",
       "      <th></th>\n",
       "      <th>antecedents</th>\n",
       "      <th>consequents</th>\n",
       "      <th>antecedent support</th>\n",
       "      <th>consequent support</th>\n",
       "      <th>support</th>\n",
       "      <th>confidence</th>\n",
       "      <th>lift</th>\n",
       "      <th>leverage</th>\n",
       "      <th>conviction</th>\n",
       "    </tr>\n",
       "  </thead>\n",
       "  <tbody>\n",
       "    <tr>\n",
       "      <th>1606</th>\n",
       "      <td>(21080)</td>\n",
       "      <td>(21086)</td>\n",
       "      <td>0.133676</td>\n",
       "      <td>0.138817</td>\n",
       "      <td>0.102828</td>\n",
       "      <td>0.769231</td>\n",
       "      <td>5.541311</td>\n",
       "      <td>0.084271</td>\n",
       "      <td>3.731791</td>\n",
       "    </tr>\n",
       "    <tr>\n",
       "      <th>1607</th>\n",
       "      <td>(21086)</td>\n",
       "      <td>(21080)</td>\n",
       "      <td>0.138817</td>\n",
       "      <td>0.133676</td>\n",
       "      <td>0.102828</td>\n",
       "      <td>0.740741</td>\n",
       "      <td>5.541311</td>\n",
       "      <td>0.084271</td>\n",
       "      <td>3.341535</td>\n",
       "    </tr>\n",
       "    <tr>\n",
       "      <th>1608</th>\n",
       "      <td>(21080)</td>\n",
       "      <td>(21094)</td>\n",
       "      <td>0.133676</td>\n",
       "      <td>0.128535</td>\n",
       "      <td>0.102828</td>\n",
       "      <td>0.769231</td>\n",
       "      <td>5.984615</td>\n",
       "      <td>0.085646</td>\n",
       "      <td>3.776350</td>\n",
       "    </tr>\n",
       "    <tr>\n",
       "      <th>1609</th>\n",
       "      <td>(21094)</td>\n",
       "      <td>(21080)</td>\n",
       "      <td>0.128535</td>\n",
       "      <td>0.133676</td>\n",
       "      <td>0.102828</td>\n",
       "      <td>0.800000</td>\n",
       "      <td>5.984615</td>\n",
       "      <td>0.085646</td>\n",
       "      <td>4.331620</td>\n",
       "    </tr>\n",
       "    <tr>\n",
       "      <th>1776</th>\n",
       "      <td>(21086)</td>\n",
       "      <td>(21094)</td>\n",
       "      <td>0.138817</td>\n",
       "      <td>0.128535</td>\n",
       "      <td>0.123393</td>\n",
       "      <td>0.888889</td>\n",
       "      <td>6.915556</td>\n",
       "      <td>0.105550</td>\n",
       "      <td>7.843188</td>\n",
       "    </tr>\n",
       "    <tr>\n",
       "      <th>...</th>\n",
       "      <td>...</td>\n",
       "      <td>...</td>\n",
       "      <td>...</td>\n",
       "      <td>...</td>\n",
       "      <td>...</td>\n",
       "      <td>...</td>\n",
       "      <td>...</td>\n",
       "      <td>...</td>\n",
       "      <td>...</td>\n",
       "    </tr>\n",
       "    <tr>\n",
       "      <th>213940</th>\n",
       "      <td>(POST, 22727)</td>\n",
       "      <td>(22728, 22726)</td>\n",
       "      <td>0.089974</td>\n",
       "      <td>0.074550</td>\n",
       "      <td>0.059126</td>\n",
       "      <td>0.657143</td>\n",
       "      <td>8.814778</td>\n",
       "      <td>0.052418</td>\n",
       "      <td>2.699229</td>\n",
       "    </tr>\n",
       "    <tr>\n",
       "      <th>213941</th>\n",
       "      <td>(22726, 22727)</td>\n",
       "      <td>(22728, POST)</td>\n",
       "      <td>0.079692</td>\n",
       "      <td>0.092545</td>\n",
       "      <td>0.059126</td>\n",
       "      <td>0.741935</td>\n",
       "      <td>8.017025</td>\n",
       "      <td>0.051751</td>\n",
       "      <td>3.516388</td>\n",
       "    </tr>\n",
       "    <tr>\n",
       "      <th>213942</th>\n",
       "      <td>(22728)</td>\n",
       "      <td>(POST, 22726, 22727)</td>\n",
       "      <td>0.102828</td>\n",
       "      <td>0.074550</td>\n",
       "      <td>0.059126</td>\n",
       "      <td>0.575000</td>\n",
       "      <td>7.712931</td>\n",
       "      <td>0.051460</td>\n",
       "      <td>2.177529</td>\n",
       "    </tr>\n",
       "    <tr>\n",
       "      <th>213944</th>\n",
       "      <td>(22726)</td>\n",
       "      <td>(22728, POST, 22727)</td>\n",
       "      <td>0.097686</td>\n",
       "      <td>0.069409</td>\n",
       "      <td>0.059126</td>\n",
       "      <td>0.605263</td>\n",
       "      <td>8.720273</td>\n",
       "      <td>0.052346</td>\n",
       "      <td>2.357498</td>\n",
       "    </tr>\n",
       "    <tr>\n",
       "      <th>213945</th>\n",
       "      <td>(22727)</td>\n",
       "      <td>(22728, POST, 22726)</td>\n",
       "      <td>0.095116</td>\n",
       "      <td>0.064267</td>\n",
       "      <td>0.059126</td>\n",
       "      <td>0.621622</td>\n",
       "      <td>9.672432</td>\n",
       "      <td>0.053013</td>\n",
       "      <td>2.473008</td>\n",
       "    </tr>\n",
       "  </tbody>\n",
       "</table>\n",
       "<p>84 rows × 9 columns</p>\n",
       "</div>"
      ],
      "text/plain": [
       "           antecedents           consequents  antecedent support  \\\n",
       "1606           (21080)               (21086)            0.133676   \n",
       "1607           (21086)               (21080)            0.138817   \n",
       "1608           (21080)               (21094)            0.133676   \n",
       "1609           (21094)               (21080)            0.128535   \n",
       "1776           (21086)               (21094)            0.138817   \n",
       "...                ...                   ...                 ...   \n",
       "213940   (POST, 22727)        (22728, 22726)            0.089974   \n",
       "213941  (22726, 22727)         (22728, POST)            0.079692   \n",
       "213942         (22728)  (POST, 22726, 22727)            0.102828   \n",
       "213944         (22726)  (22728, POST, 22727)            0.097686   \n",
       "213945         (22727)  (22728, POST, 22726)            0.095116   \n",
       "\n",
       "        consequent support   support  confidence      lift  leverage  \\\n",
       "1606              0.138817  0.102828    0.769231  5.541311  0.084271   \n",
       "1607              0.133676  0.102828    0.740741  5.541311  0.084271   \n",
       "1608              0.128535  0.102828    0.769231  5.984615  0.085646   \n",
       "1609              0.133676  0.102828    0.800000  5.984615  0.085646   \n",
       "1776              0.128535  0.123393    0.888889  6.915556  0.105550   \n",
       "...                    ...       ...         ...       ...       ...   \n",
       "213940            0.074550  0.059126    0.657143  8.814778  0.052418   \n",
       "213941            0.092545  0.059126    0.741935  8.017025  0.051751   \n",
       "213942            0.074550  0.059126    0.575000  7.712931  0.051460   \n",
       "213944            0.069409  0.059126    0.605263  8.720273  0.052346   \n",
       "213945            0.064267  0.059126    0.621622  9.672432  0.053013   \n",
       "\n",
       "        conviction  \n",
       "1606      3.731791  \n",
       "1607      3.341535  \n",
       "1608      3.776350  \n",
       "1609      4.331620  \n",
       "1776      7.843188  \n",
       "...            ...  \n",
       "213940    2.699229  \n",
       "213941    3.516388  \n",
       "213942    2.177529  \n",
       "213944    2.357498  \n",
       "213945    2.473008  \n",
       "\n",
       "[84 rows x 9 columns]"
      ]
     },
     "execution_count": 22,
     "metadata": {},
     "output_type": "execute_result"
    }
   ],
   "source": [
    "rules[(rules[\"support\"]>0.05) & (rules[\"confidence\"]>0.1) & (rules[\"lift\"]>5)]"
   ]
  },
  {
   "cell_type": "code",
   "execution_count": 23,
   "id": "a615a015",
   "metadata": {
    "execution": {
     "iopub.execute_input": "2023-04-01T11:21:53.655761Z",
     "iopub.status.busy": "2023-04-01T11:21:53.655359Z",
     "iopub.status.idle": "2023-04-01T11:21:53.689275Z",
     "shell.execute_reply": "2023-04-01T11:21:53.688070Z"
    },
    "papermill": {
     "duration": 0.049072,
     "end_time": "2023-04-01T11:21:53.691786",
     "exception": false,
     "start_time": "2023-04-01T11:21:53.642714",
     "status": "completed"
    },
    "tags": []
   },
   "outputs": [
    {
     "data": {
      "text/html": [
       "<div>\n",
       "<style scoped>\n",
       "    .dataframe tbody tr th:only-of-type {\n",
       "        vertical-align: middle;\n",
       "    }\n",
       "\n",
       "    .dataframe tbody tr th {\n",
       "        vertical-align: top;\n",
       "    }\n",
       "\n",
       "    .dataframe thead th {\n",
       "        text-align: right;\n",
       "    }\n",
       "</style>\n",
       "<table border=\"1\" class=\"dataframe\">\n",
       "  <thead>\n",
       "    <tr style=\"text-align: right;\">\n",
       "      <th></th>\n",
       "      <th>antecedents</th>\n",
       "      <th>consequents</th>\n",
       "      <th>antecedent support</th>\n",
       "      <th>consequent support</th>\n",
       "      <th>support</th>\n",
       "      <th>confidence</th>\n",
       "      <th>lift</th>\n",
       "      <th>leverage</th>\n",
       "      <th>conviction</th>\n",
       "    </tr>\n",
       "  </thead>\n",
       "  <tbody>\n",
       "    <tr>\n",
       "      <th>23707</th>\n",
       "      <td>(21080, 21094)</td>\n",
       "      <td>(21086)</td>\n",
       "      <td>0.102828</td>\n",
       "      <td>0.138817</td>\n",
       "      <td>0.100257</td>\n",
       "      <td>0.975000</td>\n",
       "      <td>7.023611</td>\n",
       "      <td>0.085983</td>\n",
       "      <td>34.447301</td>\n",
       "    </tr>\n",
       "    <tr>\n",
       "      <th>23706</th>\n",
       "      <td>(21080, 21086)</td>\n",
       "      <td>(21094)</td>\n",
       "      <td>0.102828</td>\n",
       "      <td>0.128535</td>\n",
       "      <td>0.100257</td>\n",
       "      <td>0.975000</td>\n",
       "      <td>7.585500</td>\n",
       "      <td>0.087040</td>\n",
       "      <td>34.858612</td>\n",
       "    </tr>\n",
       "    <tr>\n",
       "      <th>108820</th>\n",
       "      <td>(21080, POST, 21086)</td>\n",
       "      <td>(21094)</td>\n",
       "      <td>0.084833</td>\n",
       "      <td>0.128535</td>\n",
       "      <td>0.082262</td>\n",
       "      <td>0.969697</td>\n",
       "      <td>7.544242</td>\n",
       "      <td>0.071358</td>\n",
       "      <td>28.758355</td>\n",
       "    </tr>\n",
       "    <tr>\n",
       "      <th>108822</th>\n",
       "      <td>(21080, POST, 21094)</td>\n",
       "      <td>(21086)</td>\n",
       "      <td>0.084833</td>\n",
       "      <td>0.138817</td>\n",
       "      <td>0.082262</td>\n",
       "      <td>0.969697</td>\n",
       "      <td>6.985410</td>\n",
       "      <td>0.070486</td>\n",
       "      <td>28.419023</td>\n",
       "    </tr>\n",
       "    <tr>\n",
       "      <th>1777</th>\n",
       "      <td>(21094)</td>\n",
       "      <td>(21086)</td>\n",
       "      <td>0.128535</td>\n",
       "      <td>0.138817</td>\n",
       "      <td>0.123393</td>\n",
       "      <td>0.960000</td>\n",
       "      <td>6.915556</td>\n",
       "      <td>0.105550</td>\n",
       "      <td>21.529563</td>\n",
       "    </tr>\n",
       "    <tr>\n",
       "      <th>...</th>\n",
       "      <td>...</td>\n",
       "      <td>...</td>\n",
       "      <td>...</td>\n",
       "      <td>...</td>\n",
       "      <td>...</td>\n",
       "      <td>...</td>\n",
       "      <td>...</td>\n",
       "      <td>...</td>\n",
       "      <td>...</td>\n",
       "    </tr>\n",
       "    <tr>\n",
       "      <th>7212</th>\n",
       "      <td>(22629)</td>\n",
       "      <td>(22630)</td>\n",
       "      <td>0.125964</td>\n",
       "      <td>0.100257</td>\n",
       "      <td>0.071979</td>\n",
       "      <td>0.571429</td>\n",
       "      <td>5.699634</td>\n",
       "      <td>0.059351</td>\n",
       "      <td>2.099400</td>\n",
       "    </tr>\n",
       "    <tr>\n",
       "      <th>62249</th>\n",
       "      <td>(22630)</td>\n",
       "      <td>(POST, 22629)</td>\n",
       "      <td>0.100257</td>\n",
       "      <td>0.100257</td>\n",
       "      <td>0.053985</td>\n",
       "      <td>0.538462</td>\n",
       "      <td>5.370809</td>\n",
       "      <td>0.043933</td>\n",
       "      <td>1.949443</td>\n",
       "    </tr>\n",
       "    <tr>\n",
       "      <th>62244</th>\n",
       "      <td>(POST, 22629)</td>\n",
       "      <td>(22630)</td>\n",
       "      <td>0.100257</td>\n",
       "      <td>0.100257</td>\n",
       "      <td>0.053985</td>\n",
       "      <td>0.538462</td>\n",
       "      <td>5.370809</td>\n",
       "      <td>0.043933</td>\n",
       "      <td>1.949443</td>\n",
       "    </tr>\n",
       "    <tr>\n",
       "      <th>62248</th>\n",
       "      <td>(22629)</td>\n",
       "      <td>(POST, 22630)</td>\n",
       "      <td>0.125964</td>\n",
       "      <td>0.074550</td>\n",
       "      <td>0.053985</td>\n",
       "      <td>0.428571</td>\n",
       "      <td>5.748768</td>\n",
       "      <td>0.044594</td>\n",
       "      <td>1.619537</td>\n",
       "    </tr>\n",
       "    <tr>\n",
       "      <th>5519</th>\n",
       "      <td>(22382)</td>\n",
       "      <td>(22662)</td>\n",
       "      <td>0.120823</td>\n",
       "      <td>0.084833</td>\n",
       "      <td>0.051414</td>\n",
       "      <td>0.425532</td>\n",
       "      <td>5.016119</td>\n",
       "      <td>0.041164</td>\n",
       "      <td>1.593069</td>\n",
       "    </tr>\n",
       "  </tbody>\n",
       "</table>\n",
       "<p>84 rows × 9 columns</p>\n",
       "</div>"
      ],
      "text/plain": [
       "                 antecedents    consequents  antecedent support  \\\n",
       "23707         (21080, 21094)        (21086)            0.102828   \n",
       "23706         (21080, 21086)        (21094)            0.102828   \n",
       "108820  (21080, POST, 21086)        (21094)            0.084833   \n",
       "108822  (21080, POST, 21094)        (21086)            0.084833   \n",
       "1777                 (21094)        (21086)            0.128535   \n",
       "...                      ...            ...                 ...   \n",
       "7212                 (22629)        (22630)            0.125964   \n",
       "62249                (22630)  (POST, 22629)            0.100257   \n",
       "62244          (POST, 22629)        (22630)            0.100257   \n",
       "62248                (22629)  (POST, 22630)            0.125964   \n",
       "5519                 (22382)        (22662)            0.120823   \n",
       "\n",
       "        consequent support   support  confidence      lift  leverage  \\\n",
       "23707             0.138817  0.100257    0.975000  7.023611  0.085983   \n",
       "23706             0.128535  0.100257    0.975000  7.585500  0.087040   \n",
       "108820            0.128535  0.082262    0.969697  7.544242  0.071358   \n",
       "108822            0.138817  0.082262    0.969697  6.985410  0.070486   \n",
       "1777              0.138817  0.123393    0.960000  6.915556  0.105550   \n",
       "...                    ...       ...         ...       ...       ...   \n",
       "7212              0.100257  0.071979    0.571429  5.699634  0.059351   \n",
       "62249             0.100257  0.053985    0.538462  5.370809  0.043933   \n",
       "62244             0.100257  0.053985    0.538462  5.370809  0.043933   \n",
       "62248             0.074550  0.053985    0.428571  5.748768  0.044594   \n",
       "5519              0.084833  0.051414    0.425532  5.016119  0.041164   \n",
       "\n",
       "        conviction  \n",
       "23707    34.447301  \n",
       "23706    34.858612  \n",
       "108820   28.758355  \n",
       "108822   28.419023  \n",
       "1777     21.529563  \n",
       "...            ...  \n",
       "7212      2.099400  \n",
       "62249     1.949443  \n",
       "62244     1.949443  \n",
       "62248     1.619537  \n",
       "5519      1.593069  \n",
       "\n",
       "[84 rows x 9 columns]"
      ]
     },
     "execution_count": 23,
     "metadata": {},
     "output_type": "execute_result"
    }
   ],
   "source": [
    "rules[(rules[\"support\"]>0.05) & (rules[\"confidence\"]>0.1) & (rules[\"lift\"]>5)]. \\\n",
    "sort_values(\"confidence\", ascending=False)"
   ]
  },
  {
   "cell_type": "code",
   "execution_count": 24,
   "id": "bb98ae74",
   "metadata": {
    "execution": {
     "iopub.execute_input": "2023-04-01T11:21:53.718548Z",
     "iopub.status.busy": "2023-04-01T11:21:53.718159Z",
     "iopub.status.idle": "2023-04-01T11:21:53.729400Z",
     "shell.execute_reply": "2023-04-01T11:21:53.728022Z"
    },
    "papermill": {
     "duration": 0.027514,
     "end_time": "2023-04-01T11:21:53.731753",
     "exception": false,
     "start_time": "2023-04-01T11:21:53.704239",
     "status": "completed"
    },
    "tags": []
   },
   "outputs": [
    {
     "name": "stdout",
     "output_type": "stream",
     "text": [
      "['SET/20 RED RETROSPOT PAPER NAPKINS ']\n",
      "['SET/6 RED SPOTTY PAPER CUPS']\n"
     ]
    },
    {
     "data": {
      "text/plain": [
       "(None, None)"
      ]
     },
     "execution_count": 24,
     "metadata": {},
     "output_type": "execute_result"
    }
   ],
   "source": [
    "check_id(df_fr, 21080),check_id(df_fr, 21086)"
   ]
  },
  {
   "cell_type": "markdown",
   "id": "528e3143",
   "metadata": {
    "papermill": {
     "duration": 0.011815,
     "end_time": "2023-04-01T11:21:53.756270",
     "exception": false,
     "start_time": "2023-04-01T11:21:53.744455",
     "status": "completed"
    },
    "tags": []
   },
   "source": [
    "Similar products"
   ]
  },
  {
   "cell_type": "markdown",
   "id": "4fe599a6",
   "metadata": {
    "papermill": {
     "duration": 0.012116,
     "end_time": "2023-04-01T11:21:53.780581",
     "exception": false,
     "start_time": "2023-04-01T11:21:53.768465",
     "status": "completed"
    },
    "tags": []
   },
   "source": [
    "#  Making Product Suggestions to Users at the Basket Stage\n",
    "\n",
    "Example:\n",
    "\n",
    " User experience product ID: 22492"
   ]
  },
  {
   "cell_type": "code",
   "execution_count": 25,
   "id": "bd386de6",
   "metadata": {
    "execution": {
     "iopub.execute_input": "2023-04-01T11:21:53.807622Z",
     "iopub.status.busy": "2023-04-01T11:21:53.807222Z",
     "iopub.status.idle": "2023-04-01T11:21:53.842382Z",
     "shell.execute_reply": "2023-04-01T11:21:53.840432Z"
    },
    "papermill": {
     "duration": 0.051943,
     "end_time": "2023-04-01T11:21:53.844735",
     "exception": false,
     "start_time": "2023-04-01T11:21:53.792792",
     "status": "completed"
    },
    "tags": []
   },
   "outputs": [
    {
     "name": "stdout",
     "output_type": "stream",
     "text": [
      "['SET/20 RED RETROSPOT PAPER NAPKINS ']\n"
     ]
    }
   ],
   "source": [
    "product_id = 21080\n",
    "check_id(df, product_id)"
   ]
  },
  {
   "cell_type": "code",
   "execution_count": 26,
   "id": "5726feb4",
   "metadata": {
    "execution": {
     "iopub.execute_input": "2023-04-01T11:21:53.871422Z",
     "iopub.status.busy": "2023-04-01T11:21:53.869762Z",
     "iopub.status.idle": "2023-04-01T11:21:53.877860Z",
     "shell.execute_reply": "2023-04-01T11:21:53.876653Z"
    },
    "papermill": {
     "duration": 0.023457,
     "end_time": "2023-04-01T11:21:53.880099",
     "exception": false,
     "start_time": "2023-04-01T11:21:53.856642",
     "status": "completed"
    },
    "tags": []
   },
   "outputs": [],
   "source": [
    "def arl_recommender(rules_df, product_id, rec_count=1):\n",
    "    sorted_rules = rules_df.sort_values(\"lift\", ascending=False)\n",
    "    recommendation_list = []\n",
    "    for i, product in enumerate(sorted_rules[\"antecedents\"]):\n",
    "        for j in list(product):\n",
    "            if j == product_id:\n",
    "                recommendation_list.append(list(sorted_rules.iloc[i][\"consequents\"])[0])\n",
    "\n",
    "    return recommendation_list[0:rec_count]"
   ]
  },
  {
   "cell_type": "code",
   "execution_count": 27,
   "id": "cd881d93",
   "metadata": {
    "execution": {
     "iopub.execute_input": "2023-04-01T11:21:53.905727Z",
     "iopub.status.busy": "2023-04-01T11:21:53.905336Z",
     "iopub.status.idle": "2023-04-01T11:21:58.762834Z",
     "shell.execute_reply": "2023-04-01T11:21:58.762110Z"
    },
    "papermill": {
     "duration": 4.872771,
     "end_time": "2023-04-01T11:21:58.764873",
     "exception": false,
     "start_time": "2023-04-01T11:21:53.892102",
     "status": "completed"
    },
    "tags": []
   },
   "outputs": [
    {
     "data": {
      "text/plain": [
       "[22303, 22356]"
      ]
     },
     "execution_count": 27,
     "metadata": {},
     "output_type": "execute_result"
    }
   ],
   "source": [
    "arl_recommender(rules, product_id, 2)"
   ]
  },
  {
   "cell_type": "code",
   "execution_count": 28,
   "id": "1da1cda4",
   "metadata": {
    "execution": {
     "iopub.execute_input": "2023-04-01T11:21:58.793856Z",
     "iopub.status.busy": "2023-04-01T11:21:58.792411Z",
     "iopub.status.idle": "2023-04-01T11:21:58.885330Z",
     "shell.execute_reply": "2023-04-01T11:21:58.883746Z"
    },
    "papermill": {
     "duration": 0.109966,
     "end_time": "2023-04-01T11:21:58.888128",
     "exception": false,
     "start_time": "2023-04-01T11:21:58.778162",
     "status": "completed"
    },
    "tags": []
   },
   "outputs": [
    {
     "name": "stdout",
     "output_type": "stream",
     "text": [
      "['SET/20 RED RETROSPOT PAPER NAPKINS ']\n",
      "['CHARLOTTE BAG PINK POLKADOT']\n",
      "['LUNCH BOX WITH CUTLERY RETROSPOT ']\n"
     ]
    },
    {
     "data": {
      "text/plain": [
       "(None, None, None)"
      ]
     },
     "execution_count": 28,
     "metadata": {},
     "output_type": "execute_result"
    }
   ],
   "source": [
    "check_id(df, 21080),check_id(df, 22356),check_id(df, 22352)"
   ]
  },
  {
   "cell_type": "code",
   "execution_count": null,
   "id": "6e64ac9e",
   "metadata": {
    "papermill": {
     "duration": 0.012211,
     "end_time": "2023-04-01T11:21:58.913493",
     "exception": false,
     "start_time": "2023-04-01T11:21:58.901282",
     "status": "completed"
    },
    "tags": []
   },
   "outputs": [],
   "source": []
  }
 ],
 "metadata": {
  "kernelspec": {
   "display_name": "Python 3",
   "language": "python",
   "name": "python3"
  },
  "language_info": {
   "codemirror_mode": {
    "name": "ipython",
    "version": 3
   },
   "file_extension": ".py",
   "mimetype": "text/x-python",
   "name": "python",
   "nbconvert_exporter": "python",
   "pygments_lexer": "ipython3",
   "version": "3.7.12"
  },
  "papermill": {
   "default_parameters": {},
   "duration": 105.079412,
   "end_time": "2023-04-01T11:22:00.553917",
   "environment_variables": {},
   "exception": null,
   "input_path": "__notebook__.ipynb",
   "output_path": "__notebook__.ipynb",
   "parameters": {},
   "start_time": "2023-04-01T11:20:15.474505",
   "version": "2.4.0"
  }
 },
 "nbformat": 4,
 "nbformat_minor": 5
}
